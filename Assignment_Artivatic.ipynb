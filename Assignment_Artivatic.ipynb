{
  "nbformat": 4,
  "nbformat_minor": 5,
  "metadata": {
    "colab": {
      "name": "Assignment_Artivatic.ipynb",
      "provenance": [],
      "collapsed_sections": []
    },
    "kernelspec": {
      "display_name": "Python 3",
      "language": "python",
      "name": "python3"
    },
    "language_info": {
      "codemirror_mode": {
        "name": "ipython",
        "version": 3
      },
      "file_extension": ".py",
      "mimetype": "text/x-python",
      "name": "python",
      "nbconvert_exporter": "python",
      "pygments_lexer": "ipython3",
      "version": "3.8.8"
    }
  },
  "cells": [
    {
      "cell_type": "code",
      "metadata": {
        "colab": {
          "base_uri": "https://localhost:8080/"
        },
        "id": "37e46959",
        "outputId": "5c08d09e-beff-48f7-e0c2-14fd72c240a7"
      },
      "source": [
        "from google.colab import drive\n",
        "drive.mount('/content/drive')"
      ],
      "id": "37e46959",
      "execution_count": 62,
      "outputs": [
        {
          "output_type": "stream",
          "text": [
            "Drive already mounted at /content/drive; to attempt to forcibly remount, call drive.mount(\"/content/drive\", force_remount=True).\n"
          ],
          "name": "stdout"
        }
      ]
    },
    {
      "cell_type": "markdown",
      "metadata": {
        "id": "y1FDHLvskA40"
      },
      "source": [
        "Importing all packages"
      ],
      "id": "y1FDHLvskA40"
    },
    {
      "cell_type": "code",
      "metadata": {
        "id": "EDqbbXNtj_N1"
      },
      "source": [
        "import os\n",
        "import pandas as pd\n",
        "import numpy as np\n",
        "from sklearn.preprocessing import StandardScaler\n",
        "from sklearn.ensemble import GradientBoostingClassifier\n",
        "from xgboost import XGBClassifier\n",
        "from sklearn.model_selection import GridSearchCV\n",
        "import matplotlib.pyplot as plt\n",
        "from sklearn.model_selection import train_test_split\n",
        "import seaborn as sns\n",
        "os.chdir(\"/content/drive/My Drive\")"
      ],
      "id": "EDqbbXNtj_N1",
      "execution_count": 63,
      "outputs": []
    },
    {
      "cell_type": "markdown",
      "metadata": {
        "id": "X-JbUDCEkHrQ"
      },
      "source": [
        "Reading train file. Unseen test file with no labels"
      ],
      "id": "X-JbUDCEkHrQ"
    },
    {
      "cell_type": "code",
      "metadata": {
        "id": "2961106b"
      },
      "source": [
        "df = pd.read_csv('train_indessa.csv')\n",
        "X_Unseen_test = pd.read_csv('test_indessa.csv')"
      ],
      "id": "2961106b",
      "execution_count": 64,
      "outputs": []
    },
    {
      "cell_type": "markdown",
      "metadata": {
        "id": "b55b9e17"
      },
      "source": [
        "Here we see that data is slightly imbalanced(class 1 as 23.63% only)"
      ],
      "id": "b55b9e17"
    },
    {
      "cell_type": "code",
      "metadata": {
        "colab": {
          "base_uri": "https://localhost:8080/"
        },
        "id": "45f76b3a",
        "outputId": "d2269edd-f4bc-47f5-c8ee-2041c0479d10"
      },
      "source": [
        "df.loan_status.value_counts() "
      ],
      "id": "45f76b3a",
      "execution_count": 65,
      "outputs": [
        {
          "output_type": "execute_result",
          "data": {
            "text/plain": [
              "0    406601\n",
              "1    125827\n",
              "Name: loan_status, dtype: int64"
            ]
          },
          "metadata": {
            "tags": []
          },
          "execution_count": 65
        }
      ]
    },
    {
      "cell_type": "markdown",
      "metadata": {
        "id": "P7yxgTkgrZ1J"
      },
      "source": [
        "Printing the unique and no of unique values in each of the categorical columns"
      ],
      "id": "P7yxgTkgrZ1J"
    },
    {
      "cell_type": "code",
      "metadata": {
        "colab": {
          "base_uri": "https://localhost:8080/"
        },
        "id": "JIMY0h_frUmg",
        "outputId": "fdbe2195-84f2-4477-ca67-8dfc6f8e9dc8"
      },
      "source": [
        "print(df.desc.nunique(), df.desc.unique())\n",
        "print(df.grade.nunique(), df.grade.unique())\n",
        "print(df.term.nunique(), df.term.unique())\n",
        "print(df.sub_grade.nunique(), df.sub_grade.unique())\n",
        "print(df.emp_title.nunique(), df.emp_title.unique())\n",
        "print(df.emp_length.nunique(), df.emp_length.unique())\n",
        "print(df.home_ownership.nunique(), df.home_ownership.unique())\n",
        "print(df.verification_status.nunique(), df.verification_status.unique())\n",
        "print(df.pymnt_plan.nunique(), df.pymnt_plan.unique())\n",
        "print(df.purpose.nunique(), df.purpose.unique())\n",
        "print(df.title.nunique(), df.title.unique())\n",
        "print(df.addr_state.nunique(), df.addr_state.unique())\n",
        "print(df.initial_list_status.nunique(), df.initial_list_status.unique())\n",
        "print(df.application_type.nunique(), df.application_type.unique())\n",
        "print(df.verification_status_joint.nunique(), df.verification_status_joint.unique())\n",
        "print(df.last_week_pay.nunique(), df.last_week_pay.unique())\n",
        "print(df.zip_code.nunique(), df.zip_code.unique())\n",
        "print(df.batch_enrolled.nunique(), df.batch_enrolled.unique())"
      ],
      "id": "JIMY0h_frUmg",
      "execution_count": 66,
      "outputs": [
        {
          "output_type": "stream",
          "text": [
            "70638 [nan\n",
            " '> My goal is to obtain a loan to pay off my high credit cards and get out of debt within 3 years.<br>'\n",
            " '   > We are requesting this loan to help re-organize our finances after having a tumultuous year that resulted in unexpected medical bills.  I have been in the same line of work for over five years and have been at my current company, which is very stable in the marketplace, for two and a half years.<br>'\n",
            " ...\n",
            " '   > This loan is for home improvements, remodeling and updating.<br>'\n",
            " 'Need to consolidate cards to 1 monthly payment.'\n",
            " '   > My Deck needs to be replaced. I have $2500 saved up for it, but want to get it installed over the summer. The rates at lending club were worth getting financing for it instead of waiting till I could pay for it outright. <br/>Since leaving grad school I have never been unemployed. My Job requires a security clearance, which I cannot have with a poor credit score.<br/>']\n",
            "7 ['E' 'B' 'A' 'D' 'C' 'F' 'G']\n",
            "2 ['36 months' '60 months']\n",
            "35 ['E3' 'B4' 'A4' 'D5' 'B2' 'A5' 'B1' 'C4' 'D4' 'C3' 'D2' 'A3' 'A1' 'C1'\n",
            " 'D1' 'E2' 'B3' 'A2' 'C2' 'C5' 'E4' 'D3' 'B5' 'F2' 'F5' 'E1' 'E5' 'F4'\n",
            " 'F1' 'F3' 'G4' 'G3' 'G5' 'G1' 'G2']\n",
            "190124 ['clerk' 'Human Resources Specialist' 'Driver' ... 'Staffing assistant'\n",
            " 'Champion Mortgage' 'Health Care Analyst']\n",
            "11 ['9 years' '< 1 year' '2 years' '10+ years' '5 years' '8 years' '7 years'\n",
            " '4 years' nan '1 year' '3 years' '6 years']\n",
            "6 ['OWN' 'MORTGAGE' 'RENT' 'OTHER' 'NONE' 'ANY']\n",
            "3 ['Source Verified' 'Not Verified' 'Verified']\n",
            "2 ['n' 'y']\n",
            "14 ['debt_consolidation' 'home_improvement' 'credit_card' 'other'\n",
            " 'major_purchase' 'small_business' 'vacation' 'car' 'moving' 'medical'\n",
            " 'wedding' 'renewable_energy' 'house' 'educational']\n",
            "39693 ['Debt consolidation' 'Home improvement' 'refi' ... 'Relieve Stress'\n",
            " 'Great Credit' 'Loan for Deck']\n",
            "51 ['FL' 'MD' 'OH' 'VA' 'CA' 'IN' 'AL' 'KY' 'NM' 'TN' 'TX' 'PA' 'KS' 'IL'\n",
            " 'NY' 'MO' 'NC' 'NJ' 'CT' 'NH' 'MI' 'AZ' 'GA' 'UT' 'OK' 'NV' 'MN' 'VT'\n",
            " 'MA' 'DE' 'LA' 'WA' 'AR' 'CO' 'WV' 'HI' 'WI' 'SD' 'NE' 'RI' 'WY' 'SC'\n",
            " 'AK' 'MS' 'MT' 'OR' 'ME' 'DC' 'ND' 'IA' 'ID']\n",
            "2 ['f' 'w']\n",
            "2 ['INDIVIDUAL' 'JOINT']\n",
            "3 [nan 'Verified' 'Not Verified' 'Source Verified']\n",
            "98 ['26th week' '9th week' '135th week' '96th week' '113th week' '117th week'\n",
            " '78th week' '44th week' '52th week' '95th week' '48th week' '82th week'\n",
            " '35th week' '104th week' '17th week' '13th week' 'NAth week' '31th week'\n",
            " '30th week' '70th week' '4th week' '91th week' '65th week' '39th week'\n",
            " '83th week' '74th week' '22th week' '61th week' '156th week' '122th week'\n",
            " '174th week' '87th week' '139th week' '0th week' '57th week' '131th week'\n",
            " '152th week' '43th week' '161th week' '56th week' '170th week'\n",
            " '157th week' '109th week' '126th week' '100th week' '148th week'\n",
            " '265th week' '165th week' '261th week' '213th week' '222th week'\n",
            " '196th week' '130th week' '144th week' '244th week' '204th week'\n",
            " '69th week' '217th week' '143th week' '191th week' '21th week'\n",
            " '226th week' '18th week' '108th week' '79th week' '183th week'\n",
            " '178th week' '187th week' '252th week' '200th week' '118th week'\n",
            " '92th week' '121th week' '209th week' '239th week' '248th week'\n",
            " '169th week' '153th week' '235th week' '256th week' '8th week'\n",
            " '182th week' '230th week' '231th week' '257th week' '243th week'\n",
            " '205th week' '192th week' '270th week' '218th week' '283th week'\n",
            " '300th week' '221th week' '291th week' '278th week' '274th week'\n",
            " '269th week' '304th week']\n",
            "917 ['349xx' '209xx' '447xx' '221xx' '900xx' '461xx' '913xx' '351xx' '917xx'\n",
            " '427xx' '875xx' '926xx' '381xx' '773xx' '922xx' '919xx' '191xx' '666xx'\n",
            " '606xx' '322xx' '114xx' '928xx' '631xx' '337xx' '285xx' '764xx' '352xx'\n",
            " '757xx' '073xx' '067xx' '902xx' '750xx' '953xx' '335xx' '112xx' '471xx'\n",
            " '662xx' '171xx' '760xx' '939xx' '079xx' '125xx' '190xx' '100xx' '908xx'\n",
            " '466xx' '064xx' '168xx' '038xx' '498xx' '430xx' '083xx' '852xx' '871xx'\n",
            " '301xx' '494xx' '840xx' '076xx' '330xx' '490xx' '770xx' '195xx' '740xx'\n",
            " '891xx' '282xx' '553xx' '423xx' '437xx' '791xx' '273xx' '380xx' '305xx'\n",
            " '057xx' '327xx' '019xx' '107xx' '104xx' '198xx' '708xx' '949xx' '670xx'\n",
            " '988xx' '021xx' '287xx' '224xx' '232xx' '850xx' '566xx' '628xx' '320xx'\n",
            " '799xx' '283xx' '920xx' '103xx' '729xx' '410xx' '782xx' '015xx' '378xx'\n",
            " '554xx' '761xx' '115xx' '415xx' '442xx' '344xx' '201xx' '981xx' '020xx'\n",
            " '982xx' '278xx' '720xx' '816xx' '254xx' '074xx' '444xx' '113xx' '481xx'\n",
            " '405xx' '863xx' '968xx' '441xx' '017xx' '452xx' '212xx' '786xx' '334xx'\n",
            " '547xx' '727xx' '483xx' '370xx' '856xx' '925xx' '333xx' '951xx' '474xx'\n",
            " '341xx' '752xx' '762xx' '080xx' '363xx' '317xx' '186xx' '240xx' '088xx'\n",
            " '217xx' '923xx' '227xx' '328xx' '336xx' '935xx' '604xx' '288xx' '624xx'\n",
            " '321xx' '915xx' '101xx' '950xx' '641xx' '111xx' '326xx' '458xx' '927xx'\n",
            " '787xx' '364xx' '061xx' '372xx' '630xx' '946xx' '402xx' '570xx' '681xx'\n",
            " '443xx' '346xx' '028xx' '543xx' '163xx' '735xx' '755xx' '303xx' '233xx'\n",
            " '070xx' '071xx' '024xx' '347xx' '356xx' '194xx' '933xx' '882xx' '236xx'\n",
            " '640xx' '719xx' '225xx' '220xx' '600xx' '822xx' '014xx' '031xx' '857xx'\n",
            " '941xx' '463xx' '959xx' '130xx' '222xx' '421xx' '741xx' '894xx' '826xx'\n",
            " '432xx' '479xx' '952xx' '010xx' '329xx' '759xx' '711xx' '214xx' '744xx'\n",
            " '297xx' '774xx' '089xx' '411xx' '674xx' '207xx' '324xx' '890xx' '338xx'\n",
            " '121xx' '060xx' '331xx' '809xx' '302xx' '931xx' '980xx' '365xx' '605xx'\n",
            " '880xx' '671xx' '577xx' '705xx' '921xx' '359xx' '109xx' '255xx' '211xx'\n",
            " '534xx' '611xx' '984xx' '087xx' '210xx' '281xx' '489xx' '843xx' '177xx'\n",
            " '480xx' '995xx' '350xx' '907xx' '403xx' '706xx' '385xx' '127xx' '844xx'\n",
            " '955xx' '958xx' '117xx' '460xx' '802xx' '032xx' '342xx' '439xx' '395xx'\n",
            " '369xx' '368xx' '788xx' '853xx' '895xx' '151xx' '906xx' '150xx' '244xx'\n",
            " '601xx' '912xx' '189xx' '170xx' '618xx' '275xx' '807xx' '218xx' '128xx'\n",
            " '475xx' '785xx' '726xx' '721xx' '152xx' '590xx' '945xx' '488xx' '627xx'\n",
            " '023xx' '436xx' '208xx' '238xx' '440xx' '276xx' '172xx' '983xx' '105xx'\n",
            " '482xx' '455xx' '691xx' '446xx' '957xx' '300xx' '934xx' '296xx' '978xx'\n",
            " '156xx' '956xx' '325xx' '780xx' '532xx' '373xx' '636xx' '914xx' '371xx'\n",
            " '829xx' '972xx' '011xx' '086xx' '279xx' '754xx' '763xx' '930xx' '765xx'\n",
            " '775xx' '308xx' '027xx' '977xx' '615xx' '180xx' '559xx' '491xx' '571xx'\n",
            " '081xx' '932xx' '454xx' '712xx' '018xx' '029xx' '043xx' '159xx' '131xx'\n",
            " '870xx' '453xx' '800xx' '358xx' '633xx' '122xx' '065xx' '881xx' '936xx'\n",
            " '704xx' '310xx' '797xx' '790xx' '778xx' '751xx' '406xx' '608xx' '178xx'\n",
            " '998xx' '197xx' '216xx' '294xx' '598xx' '226xx' '339xx' '082xx' '465xx'\n",
            " '450xx' '660xx' '234xx' '806xx' '812xx' '291xx' '215xx' '464xx' '675xx'\n",
            " '937xx' '026xx' '561xx' '434xx' '066xx' '206xx' '700xx' '013xx' '550xx'\n",
            " '223xx' '016xx' '905xx' '193xx' '743xx' '062xx' '386xx' '431xx' '558xx'\n",
            " '883xx' '975xx' '878xx' '306xx' '173xx' '435xx' '312xx' '731xx' '794xx'\n",
            " '701xx' '730xx' '448xx' '467xx' '068xx' '993xx' '970xx' '124xx' '851xx'\n",
            " '716xx' '756xx' '665xx' '245xx' '986xx' '916xx' '142xx' '622xx' '379xx'\n",
            " '657xx' '166xx' '656xx' '374xx' '795xx' '146xx' '746xx' '357xx' '054xx'\n",
            " '315xx' '940xx' '723xx' '188xx' '433xx' '041xx' '992xx' '394xx' '078xx'\n",
            " '420xx' '323xx' '280xx' '985xx' '120xx' '110xx' '616xx' '967xx' '801xx'\n",
            " '813xx' '167xx' '290xx' '827xx' '652xx' '748xx' '918xx' '820xx' '077xx'\n",
            " '231xx' '053xx' '292xx' '960xx' '805xx' '316xx' '551xx' '658xx' '069xx'\n",
            " '144xx' '179xx' '567xx' '680xx' '314xx' '672xx' '424xx' '603xx' '361xx'\n",
            " '309xx' '572xx' '814xx' '781xx' '140xx' '644xx' '293xx' '175xx' '295xx'\n",
            " '713xx' '049xx' '072xx' '486xx' '265xx' '141xx' '678xx' '793xx' '307xx'\n",
            " '360xx' '563xx' '841xx' '626xx' '469xx' '648xx' '903xx' '258xx' '425xx'\n",
            " '149xx' '377xx' '272xx' '784xx' '612xx' '625xx' '703xx' '106xx' '270xx'\n",
            " '355xx' '539xx' '119xx' '954xx' '725xx' '831xx' '796xx' '184xx' '484xx'\n",
            " '200xx' '560xx' '219xx' '565xx' '707xx' '468xx' '063xx' '136xx' '499xx'\n",
            " '803xx' '974xx' '313xx' '530xx' '462xx' '492xx' '388xx' '769xx' '398xx'\n",
            " '493xx' '924xx' '638xx' '910xx' '135xx' '400xx' '650xx' '710xx' '776xx'\n",
            " '274xx' '535xx' '284xx' '108xx' '456xx' '996xx' '634xx' '196xx' '235xx'\n",
            " '230xx' '132xx' '581xx' '241xx' '470xx' '185xx' '667xx' '557xx' '973xx'\n",
            " '617xx' '183xx' '176xx' '609xx' '979xx' '261xx' '050xx' '229xx' '777xx'\n",
            " '145xx' '898xx' '319xx' '366xx' '614xx' '679xx' '591xx' '239xx' '808xx'\n",
            " '620xx' '736xx' '286xx' '271xx' '798xx' '510xx' '396xx' '597xx' '661xx'\n",
            " '728xx' '884xx' '669xx' '549xx' '804xx' '971xx' '860xx' '610xx' '299xx'\n",
            " '540xx' '390xx' '564xx' '035xx' '157xx' '943xx' '639xx' '737xx' '158xx'\n",
            " '897xx' '251xx' '724xx' '160xx' '767xx' '407xx' '815xx' '847xx' '596xx'\n",
            " '811xx' '586xx' '277xx' '409xx' '129xx' '747xx' '548xx' '199xx' '362xx'\n",
            " '989xx' '304xx' '722xx' '030xx' '263xx' '138xx' '613xx' '545xx' '252xx'\n",
            " '477xx' '544xx' '165xx' '485xx' '384xx' '242xx' '401xx' '904xx' '052xx'\n",
            " '828xx' '944xx' '298xx' '495xx' '412xx' '422xx' '580xx' '629xx' '562xx'\n",
            " '911xx' '085xx' '126xx' '864xx' '497xx' '645xx' '056xx' '228xx' '354xx'\n",
            " '573xx' '734xx' '531xx' '969xx' '583xx' '991xx' '473xx' '034xx' '599xx'\n",
            " '387xx' '664xx' '449xx' '383xx' '393xx' '268xx' '655xx' '594xx' '318xx'\n",
            " '404xx' '541xx' '997xx' '976xx' '147xx' '859xx' '685xx' '153xx' '749xx'\n",
            " '376xx' '874xx' '253xx' '116xx' '948xx' '592xx' '593xx' '084xx' '445xx'\n",
            " '389xx' '037xx' '873xx' '823xx' '259xx' '187xx' '623xx' '451xx' '653xx'\n",
            " '745xx' '478xx' '810xx' '148xx' '575xx' '260xx' '637xx' '537xx' '961xx'\n",
            " '040xx' '496xx' '243xx' '758xx' '262xx' '418xx' '174xx' '689xx' '779xx'\n",
            " '311xx' '247xx' '102xx' '825xx' '846xx' '714xx' '893xx' '542xx' '574xx'\n",
            " '022xx' '249xx' '075xx' '155xx' '182xx' '607xx' '012xx' '133xx' '789xx'\n",
            " '139xx' '438xx' '472xx' '651xx' '426xx' '162xx' '487xx' '250xx' '123xx'\n",
            " '457xx' '865xx' '718xx' '392xx' '687xx' '947xx' '094xx' '855xx' '768xx'\n",
            " '845xx' '654xx' '161xx' '033xx' '673xx' '137xx' '267xx' '646xx' '619xx'\n",
            " '025xx' '332xx' '676xx' '134xx' '990xx' '181xx' '246xx' '237xx' '391xx'\n",
            " '647xx' '118xx' '582xx' '169xx' '154xx' '039xx' '058xx' '576xx' '476xx'\n",
            " '382xx' '051xx' '688xx' '408xx' '546xx' '143xx' '098xx' '416xx' '264xx'\n",
            " '397xx' '838xx' '164xx' '792xx' '635xx' '877xx' '830xx' '772xx' '269xx'\n",
            " '340xx' '042xx' '417xx' '588xx' '717xx' '753xx' '256xx' '909xx' '783xx'\n",
            " '289xx' '044xx' '999xx' '766xx' '502xx' '585xx' '738xx' '367xx' '513xx'\n",
            " '602xx' '693xx' '963xx' '257xx' '046xx' '413xx' '668xx' '771xx' '739xx'\n",
            " '584xx' '824xx' '538xx' '248xx' '266xx' '683xx' '595xx' '677xx' '527xx'\n",
            " '048xx' '836xx' '690xx' '834xx' '045xx' '889xx' '684xx' '096xx' '686xx'\n",
            " '587xx' '047xx' '994xx' '036xx' '093xx' '556xx' '821xx' '092xx' '414xx'\n",
            " '832xx' '090xx' '511xx' '942xx' '007xx' '008xx' '879xx' '962xx' '528xx'\n",
            " '692xx' '742xx' '059xx' '833xx' '343xx' '509xx' '503xx' '091xx' '819xx'\n",
            " '965xx' '643xx' '835xx' '204xx' '682xx' '520xx' '348xx' '514xx' '429xx'\n",
            " '353xx' '854xx' '702xx' '097xx' '938xx' '663xx' '522xx' '507xx' '205xx'\n",
            " '888xx' '500xx' '837xx' '523xx' '901xx' '569xx' '861xx' '649xx']\n",
            "104 [' ' 'BAT1586599' 'BAT4808022' 'BAT2833642' 'BAT2575549' nan 'BAT4136152'\n",
            " 'BAT4694572' 'BAT5924421' 'BAT3193689' 'BAT224923' 'BAT1184694'\n",
            " 'BAT1930365' 'BAT3873588' 'BAT2252229' 'BAT1135695' 'BAT4271519'\n",
            " 'BAT3726927' 'BAT2803411' 'BAT1104812' 'BAT5341619' 'BAT3865626'\n",
            " 'BAT1780517' 'BAT2522922' 'BAT2558388' 'BAT2428731' 'BAT3943761'\n",
            " 'BAT2333412' 'BAT5849876' 'BAT5540558' 'BAT2136391' 'BAT1761981'\n",
            " 'BAT47674' 'BAT1327206' 'BAT1467036' 'BAT2003848' 'BAT4722912'\n",
            " 'BAT4201183' 'BAT5525466' 'BAT5489674' 'BAT2078974' 'BAT4351734'\n",
            " 'BAT2677031' 'BAT3461431' 'BAT3292317' 'BAT1766061' 'BAT1914408'\n",
            " 'BAT1942645' 'BAT5458862' 'BAT2015867' 'BAT1691418' 'BAT5877328'\n",
            " 'BAT5614983' 'BAT1755192' 'BAT4786748' 'BAT5811547' 'BAT2881062'\n",
            " 'BAT4051248' 'BAT5629144' 'BAT5714674' 'BAT3372536' 'BAT1273836'\n",
            " 'BAT3260421' 'BAT2881453' 'BAT5320519' 'BAT5547201' 'BAT5046385'\n",
            " 'BAT348786' 'BAT3160077' 'BAT20678' 'BAT4260473' 'BAT3706046'\n",
            " 'BAT4780022' 'BAT3275209' 'BAT3518025' 'BAT3839056' 'BAT2974007'\n",
            " 'BAT1521494' 'BAT291187' 'BAT3975721' 'BAT5597801' 'BAT357701'\n",
            " 'BAT4734809' 'BAT1864701' 'BAT2143459' 'BAT4935307' 'BAT447257'\n",
            " 'BAT4160421' 'BAT3537993' 'BAT3157685' 'BAT3474907' 'BAT4726815'\n",
            " 'BAT3594334' 'BAT4939736' 'BAT5477261' 'BAT578944' 'BAT3147293'\n",
            " 'BAT5869156' 'BAT3965509' 'BAT1575727' 'BAT4250975' 'BAT4884699'\n",
            " 'BAT4347689' 'BAT5077496' 'BAT2331079']\n"
          ],
          "name": "stdout"
        }
      ]
    },
    {
      "cell_type": "code",
      "metadata": {
        "colab": {
          "base_uri": "https://localhost:8080/",
          "height": 462
        },
        "id": "EbauHWLJkoQQ",
        "outputId": "5759d005-c875-4d02-a482-aa1714b85a1b"
      },
      "source": [
        "# Taking X & Y in data\n",
        "\n",
        "y = df['loan_status'].values\n",
        "X = df.drop(['loan_status'], axis=1)\n",
        "X.head()"
      ],
      "id": "EbauHWLJkoQQ",
      "execution_count": 67,
      "outputs": [
        {
          "output_type": "execute_result",
          "data": {
            "text/html": [
              "<div>\n",
              "<style scoped>\n",
              "    .dataframe tbody tr th:only-of-type {\n",
              "        vertical-align: middle;\n",
              "    }\n",
              "\n",
              "    .dataframe tbody tr th {\n",
              "        vertical-align: top;\n",
              "    }\n",
              "\n",
              "    .dataframe thead th {\n",
              "        text-align: right;\n",
              "    }\n",
              "</style>\n",
              "<table border=\"1\" class=\"dataframe\">\n",
              "  <thead>\n",
              "    <tr style=\"text-align: right;\">\n",
              "      <th></th>\n",
              "      <th>member_id</th>\n",
              "      <th>loan_amnt</th>\n",
              "      <th>funded_amnt</th>\n",
              "      <th>funded_amnt_inv</th>\n",
              "      <th>term</th>\n",
              "      <th>batch_enrolled</th>\n",
              "      <th>int_rate</th>\n",
              "      <th>grade</th>\n",
              "      <th>sub_grade</th>\n",
              "      <th>emp_title</th>\n",
              "      <th>emp_length</th>\n",
              "      <th>home_ownership</th>\n",
              "      <th>annual_inc</th>\n",
              "      <th>verification_status</th>\n",
              "      <th>pymnt_plan</th>\n",
              "      <th>desc</th>\n",
              "      <th>purpose</th>\n",
              "      <th>title</th>\n",
              "      <th>zip_code</th>\n",
              "      <th>addr_state</th>\n",
              "      <th>dti</th>\n",
              "      <th>delinq_2yrs</th>\n",
              "      <th>inq_last_6mths</th>\n",
              "      <th>mths_since_last_delinq</th>\n",
              "      <th>mths_since_last_record</th>\n",
              "      <th>open_acc</th>\n",
              "      <th>pub_rec</th>\n",
              "      <th>revol_bal</th>\n",
              "      <th>revol_util</th>\n",
              "      <th>total_acc</th>\n",
              "      <th>initial_list_status</th>\n",
              "      <th>total_rec_int</th>\n",
              "      <th>total_rec_late_fee</th>\n",
              "      <th>recoveries</th>\n",
              "      <th>collection_recovery_fee</th>\n",
              "      <th>collections_12_mths_ex_med</th>\n",
              "      <th>mths_since_last_major_derog</th>\n",
              "      <th>application_type</th>\n",
              "      <th>verification_status_joint</th>\n",
              "      <th>last_week_pay</th>\n",
              "      <th>acc_now_delinq</th>\n",
              "      <th>tot_coll_amt</th>\n",
              "      <th>tot_cur_bal</th>\n",
              "      <th>total_rev_hi_lim</th>\n",
              "    </tr>\n",
              "  </thead>\n",
              "  <tbody>\n",
              "    <tr>\n",
              "      <th>0</th>\n",
              "      <td>58189336</td>\n",
              "      <td>14350</td>\n",
              "      <td>14350</td>\n",
              "      <td>14350.0</td>\n",
              "      <td>36 months</td>\n",
              "      <td></td>\n",
              "      <td>19.19</td>\n",
              "      <td>E</td>\n",
              "      <td>E3</td>\n",
              "      <td>clerk</td>\n",
              "      <td>9 years</td>\n",
              "      <td>OWN</td>\n",
              "      <td>28700.0</td>\n",
              "      <td>Source Verified</td>\n",
              "      <td>n</td>\n",
              "      <td>NaN</td>\n",
              "      <td>debt_consolidation</td>\n",
              "      <td>Debt consolidation</td>\n",
              "      <td>349xx</td>\n",
              "      <td>FL</td>\n",
              "      <td>33.88</td>\n",
              "      <td>0.0</td>\n",
              "      <td>1.0</td>\n",
              "      <td>50.0</td>\n",
              "      <td>75.0</td>\n",
              "      <td>14.0</td>\n",
              "      <td>1.0</td>\n",
              "      <td>22515.0</td>\n",
              "      <td>73.1</td>\n",
              "      <td>28.0</td>\n",
              "      <td>f</td>\n",
              "      <td>1173.84</td>\n",
              "      <td>0.0</td>\n",
              "      <td>0.0</td>\n",
              "      <td>0.0</td>\n",
              "      <td>0.0</td>\n",
              "      <td>74.0</td>\n",
              "      <td>INDIVIDUAL</td>\n",
              "      <td>NaN</td>\n",
              "      <td>26th week</td>\n",
              "      <td>0.0</td>\n",
              "      <td>0.0</td>\n",
              "      <td>28699.0</td>\n",
              "      <td>30800.0</td>\n",
              "    </tr>\n",
              "    <tr>\n",
              "      <th>1</th>\n",
              "      <td>70011223</td>\n",
              "      <td>4800</td>\n",
              "      <td>4800</td>\n",
              "      <td>4800.0</td>\n",
              "      <td>36 months</td>\n",
              "      <td>BAT1586599</td>\n",
              "      <td>10.99</td>\n",
              "      <td>B</td>\n",
              "      <td>B4</td>\n",
              "      <td>Human Resources Specialist</td>\n",
              "      <td>&lt; 1 year</td>\n",
              "      <td>MORTGAGE</td>\n",
              "      <td>65000.0</td>\n",
              "      <td>Source Verified</td>\n",
              "      <td>n</td>\n",
              "      <td>NaN</td>\n",
              "      <td>home_improvement</td>\n",
              "      <td>Home improvement</td>\n",
              "      <td>209xx</td>\n",
              "      <td>MD</td>\n",
              "      <td>3.64</td>\n",
              "      <td>0.0</td>\n",
              "      <td>1.0</td>\n",
              "      <td>NaN</td>\n",
              "      <td>NaN</td>\n",
              "      <td>6.0</td>\n",
              "      <td>0.0</td>\n",
              "      <td>7624.0</td>\n",
              "      <td>23.2</td>\n",
              "      <td>13.0</td>\n",
              "      <td>w</td>\n",
              "      <td>83.95</td>\n",
              "      <td>0.0</td>\n",
              "      <td>0.0</td>\n",
              "      <td>0.0</td>\n",
              "      <td>0.0</td>\n",
              "      <td>NaN</td>\n",
              "      <td>INDIVIDUAL</td>\n",
              "      <td>NaN</td>\n",
              "      <td>9th week</td>\n",
              "      <td>0.0</td>\n",
              "      <td>0.0</td>\n",
              "      <td>9974.0</td>\n",
              "      <td>32900.0</td>\n",
              "    </tr>\n",
              "    <tr>\n",
              "      <th>2</th>\n",
              "      <td>70255675</td>\n",
              "      <td>10000</td>\n",
              "      <td>10000</td>\n",
              "      <td>10000.0</td>\n",
              "      <td>36 months</td>\n",
              "      <td>BAT1586599</td>\n",
              "      <td>7.26</td>\n",
              "      <td>A</td>\n",
              "      <td>A4</td>\n",
              "      <td>Driver</td>\n",
              "      <td>2 years</td>\n",
              "      <td>OWN</td>\n",
              "      <td>45000.0</td>\n",
              "      <td>Not Verified</td>\n",
              "      <td>n</td>\n",
              "      <td>NaN</td>\n",
              "      <td>debt_consolidation</td>\n",
              "      <td>Debt consolidation</td>\n",
              "      <td>447xx</td>\n",
              "      <td>OH</td>\n",
              "      <td>18.42</td>\n",
              "      <td>0.0</td>\n",
              "      <td>0.0</td>\n",
              "      <td>NaN</td>\n",
              "      <td>NaN</td>\n",
              "      <td>5.0</td>\n",
              "      <td>0.0</td>\n",
              "      <td>10877.0</td>\n",
              "      <td>31.2</td>\n",
              "      <td>19.0</td>\n",
              "      <td>w</td>\n",
              "      <td>56.47</td>\n",
              "      <td>0.0</td>\n",
              "      <td>0.0</td>\n",
              "      <td>0.0</td>\n",
              "      <td>0.0</td>\n",
              "      <td>NaN</td>\n",
              "      <td>INDIVIDUAL</td>\n",
              "      <td>NaN</td>\n",
              "      <td>9th week</td>\n",
              "      <td>0.0</td>\n",
              "      <td>65.0</td>\n",
              "      <td>38295.0</td>\n",
              "      <td>34900.0</td>\n",
              "    </tr>\n",
              "    <tr>\n",
              "      <th>3</th>\n",
              "      <td>1893936</td>\n",
              "      <td>15000</td>\n",
              "      <td>15000</td>\n",
              "      <td>15000.0</td>\n",
              "      <td>36 months</td>\n",
              "      <td>BAT4808022</td>\n",
              "      <td>19.72</td>\n",
              "      <td>D</td>\n",
              "      <td>D5</td>\n",
              "      <td>Us office of Personnel Management</td>\n",
              "      <td>10+ years</td>\n",
              "      <td>RENT</td>\n",
              "      <td>105000.0</td>\n",
              "      <td>Not Verified</td>\n",
              "      <td>n</td>\n",
              "      <td>&gt; My goal is to obtain a loan to pay off my hi...</td>\n",
              "      <td>debt_consolidation</td>\n",
              "      <td>Debt consolidation</td>\n",
              "      <td>221xx</td>\n",
              "      <td>VA</td>\n",
              "      <td>14.97</td>\n",
              "      <td>0.0</td>\n",
              "      <td>2.0</td>\n",
              "      <td>46.0</td>\n",
              "      <td>NaN</td>\n",
              "      <td>10.0</td>\n",
              "      <td>0.0</td>\n",
              "      <td>13712.0</td>\n",
              "      <td>55.5</td>\n",
              "      <td>21.0</td>\n",
              "      <td>f</td>\n",
              "      <td>4858.62</td>\n",
              "      <td>0.0</td>\n",
              "      <td>0.0</td>\n",
              "      <td>0.0</td>\n",
              "      <td>0.0</td>\n",
              "      <td>NaN</td>\n",
              "      <td>INDIVIDUAL</td>\n",
              "      <td>NaN</td>\n",
              "      <td>135th week</td>\n",
              "      <td>0.0</td>\n",
              "      <td>0.0</td>\n",
              "      <td>55564.0</td>\n",
              "      <td>24700.0</td>\n",
              "    </tr>\n",
              "    <tr>\n",
              "      <th>4</th>\n",
              "      <td>7652106</td>\n",
              "      <td>16000</td>\n",
              "      <td>16000</td>\n",
              "      <td>16000.0</td>\n",
              "      <td>36 months</td>\n",
              "      <td>BAT2833642</td>\n",
              "      <td>10.64</td>\n",
              "      <td>B</td>\n",
              "      <td>B2</td>\n",
              "      <td>LAUSD-HOLLYWOOD HIGH SCHOOL</td>\n",
              "      <td>10+ years</td>\n",
              "      <td>RENT</td>\n",
              "      <td>52000.0</td>\n",
              "      <td>Verified</td>\n",
              "      <td>n</td>\n",
              "      <td>NaN</td>\n",
              "      <td>credit_card</td>\n",
              "      <td>refi</td>\n",
              "      <td>900xx</td>\n",
              "      <td>CA</td>\n",
              "      <td>20.16</td>\n",
              "      <td>0.0</td>\n",
              "      <td>0.0</td>\n",
              "      <td>NaN</td>\n",
              "      <td>NaN</td>\n",
              "      <td>11.0</td>\n",
              "      <td>0.0</td>\n",
              "      <td>35835.0</td>\n",
              "      <td>76.2</td>\n",
              "      <td>27.0</td>\n",
              "      <td>w</td>\n",
              "      <td>2296.41</td>\n",
              "      <td>0.0</td>\n",
              "      <td>0.0</td>\n",
              "      <td>0.0</td>\n",
              "      <td>0.0</td>\n",
              "      <td>NaN</td>\n",
              "      <td>INDIVIDUAL</td>\n",
              "      <td>NaN</td>\n",
              "      <td>96th week</td>\n",
              "      <td>0.0</td>\n",
              "      <td>0.0</td>\n",
              "      <td>47159.0</td>\n",
              "      <td>47033.0</td>\n",
              "    </tr>\n",
              "  </tbody>\n",
              "</table>\n",
              "</div>"
            ],
            "text/plain": [
              "   member_id  loan_amnt  ...  tot_cur_bal  total_rev_hi_lim\n",
              "0   58189336      14350  ...      28699.0           30800.0\n",
              "1   70011223       4800  ...       9974.0           32900.0\n",
              "2   70255675      10000  ...      38295.0           34900.0\n",
              "3    1893936      15000  ...      55564.0           24700.0\n",
              "4    7652106      16000  ...      47159.0           47033.0\n",
              "\n",
              "[5 rows x 44 columns]"
            ]
          },
          "metadata": {
            "tags": []
          },
          "execution_count": 67
        }
      ]
    },
    {
      "cell_type": "code",
      "metadata": {
        "colab": {
          "base_uri": "https://localhost:8080/"
        },
        "id": "7d6d46ff",
        "outputId": "6b5d8e4d-441b-44cd-80a0-f97c78a1778b"
      },
      "source": [
        "X_train, X_test, y_train, y_test = train_test_split(X, y, test_size=0.30, stratify=y)\n",
        "type(X_train)"
      ],
      "id": "7d6d46ff",
      "execution_count": 68,
      "outputs": [
        {
          "output_type": "execute_result",
          "data": {
            "text/plain": [
              "pandas.core.frame.DataFrame"
            ]
          },
          "metadata": {
            "tags": []
          },
          "execution_count": 68
        }
      ]
    },
    {
      "cell_type": "code",
      "metadata": {
        "colab": {
          "base_uri": "https://localhost:8080/"
        },
        "id": "99ad6e06",
        "outputId": "46bd4a8c-bb92-4c43-cf26-ae5b7d901d2e"
      },
      "source": [
        "print(X_train.shape, y_train.shape)\n",
        "print(X_test.shape, y_test.shape)\n",
        "print(X_Unseen_test.shape)"
      ],
      "id": "99ad6e06",
      "execution_count": 69,
      "outputs": [
        {
          "output_type": "stream",
          "text": [
            "(372699, 44) (372699,)\n",
            "(159729, 44) (159729,)\n",
            "(354951, 44)\n"
          ],
          "name": "stdout"
        }
      ]
    },
    {
      "cell_type": "markdown",
      "metadata": {
        "id": "51985f05"
      },
      "source": [
        "Now we see that desc data is mostly empty , also some of the rows have same data as that present in title column.\n",
        "Hence, as a workaround if we try to impute this 85%+ missing data in desc column with the same as corresponding title data, \n",
        "it will be a situation similar to multicolinearity where two columns would almost be around 90% similar, hence\n",
        "as we dont have extra info available here for its imputation we are just neglecting this desc column in our \n",
        "final training."
      ],
      "id": "51985f05"
    },
    {
      "cell_type": "code",
      "metadata": {
        "colab": {
          "base_uri": "https://localhost:8080/"
        },
        "id": "42afe631",
        "outputId": "72c36250-a9cf-4410-f41f-058a54952b2e"
      },
      "source": [
        "print(df['desc'].isna().sum())\n",
        "print(df.desc.value_counts())"
      ],
      "id": "42afe631",
      "execution_count": 70,
      "outputs": [
        {
          "output_type": "stream",
          "text": [
            "456829\n",
            "> Debt consolidation<br>                                                                                                                                                                                                                                                                                                                                                                                                                                                                                                                                                                                                                                                                                                                                                                                       576\n",
            "> Debt Consolidation<br>                                                                                                                                                                                                                                                                                                                                                                                                                                                                                                                                                                                                                                                                                                                                                                                       372\n",
            "> debt consolidation<br>                                                                                                                                                                                                                                                                                                                                                                                                                                                                                                                                                                                                                                                                                                                                                                                       347\n",
            "> Debt consolidation.<br>                                                                                                                                                                                                                                                                                                                                                                                                                                                                                                                                                                                                                                                                                                                                                                                      131\n",
            "> Pay off credit cards<br>                                                                                                                                                                                                                                                                                                                                                                                                                                                                                                                                                                                                                                                                                                                                                                                     122\n",
            "                                                                                                                                                                                                                                                                                                                                                                                                                                                                                                                                                                                                                                                                                                                                                                                                              ... \n",
            "   > I had another Lending Club loan that was consistently paid on time and was paid completely, so I'm a good borrower. I have worked for the same company for 6 years. I trust that my job is stable. Earlier this year I went to the hospital for an extended stay, via the emergency room. There are gaps between my hospital bill and my HMO coverage that I would like to pay off.<br/>                                                                                                                                                                                                                                                                                                                                                                                                                    1\n",
            "> Debt consolidation and to lower monthly bills.<br>                                                                                                                                                                                                                                                                                                                                                                                                                                                                                                                                                                                                                                                                                                                                                             1\n",
            "> I need to pay off this massive credit bill to start fresh and use less of my credit card.<br>                                                                                                                                                                                                                                                                                                                                                                                                                                                                                                                                                                                                                                                                                                                  1\n",
            "   > I am seeking funding to start my own stage lighting company. All funds will be used to buy the needed start up equipment i need such as trussing, truss lifts, moving head lighting fixtures, stage wash lights and protective cases for all the gear. I have a full time job that I've been at for four years. The lighting company is a side venture. I have also been in the entertainment industry for sixteen years doing lighting and live sound. I think its time to make money with my own business since I am already established with many clients. There will be money to be made after the enitial start uo since there aren't many expenses. My bills are first and foremost and i take pride in paying bills on time. Thank you for this opportunity and thank you for your time...<br/>      1\n",
            "   > I recently purchased a second home with acreage in the Sierra foothills that needs some updating (new appliances, paint, flooring) and minor repairs to some of the out buildings.<br>                                                                                                                                                                                                                                                                                                                                                                                                                                                                                                                                                                                                                      1\n",
            "Name: desc, Length: 70638, dtype: int64\n"
          ],
          "name": "stdout"
        }
      ]
    },
    {
      "cell_type": "markdown",
      "metadata": {
        "id": "5b6d794a"
      },
      "source": [
        "Encoding below zip_code & batch_enrolled on the basis of frequency of that category in that column, \n",
        "as these columns have huge no of categories in them. So as to make this categorical column as numerical. \n",
        "We are doing this for train , test data & unseen test.\n",
        "\n",
        "Mostly the columns which had more than 100 categories"
      ],
      "id": "5b6d794a"
    },
    {
      "cell_type": "code",
      "metadata": {
        "colab": {
          "base_uri": "https://localhost:8080/"
        },
        "id": "da9b57e3",
        "outputId": "e0a7c529-aa4b-4545-d9f1-d934022e5646"
      },
      "source": [
        "emp_title_Dict_train = X_train['zip_code'].value_counts()\n",
        "title_Dict_train = X_train['batch_enrolled'].value_counts()\n",
        "\n",
        "X_train['encoded_zip_code'] = X_train['zip_code'].map(emp_title_Dict_train)\n",
        "X_train['encoded_batch_enrolled'] = X_train['batch_enrolled'].map(title_Dict_train)\n",
        "\n",
        "X_train.drop(['zip_code', 'batch_enrolled'], axis=1, inplace=True)\n",
        "\n",
        "emp_title_Dict_test = X_test['zip_code'].value_counts()\n",
        "title_Dict_test = X_test['batch_enrolled'].value_counts()\n",
        "\n",
        "X_test['encoded_zip_code'] = X_test['zip_code'].map(emp_title_Dict_test)\n",
        "X_test['encoded_batch_enrolled'] = X_test['batch_enrolled'].map(title_Dict_test)\n",
        "\n",
        "X_test.drop(['zip_code', 'batch_enrolled'], axis=1, inplace=True)\n",
        "\n",
        "emp_title_Dict_test = X_Unseen_test['zip_code'].value_counts()\n",
        "title_Dict_test = X_Unseen_test['batch_enrolled'].value_counts()\n",
        "\n",
        "X_Unseen_test['encoded_zip_code'] = X_Unseen_test['zip_code'].map(emp_title_Dict_test)\n",
        "X_Unseen_test['encoded_batch_enrolled'] = X_Unseen_test['batch_enrolled'].map(title_Dict_test)\n",
        "\n",
        "X_Unseen_test.drop(['zip_code', 'batch_enrolled'], axis=1, inplace=True)"
      ],
      "id": "da9b57e3",
      "execution_count": 71,
      "outputs": [
        {
          "output_type": "stream",
          "text": [
            "/usr/local/lib/python3.7/dist-packages/ipykernel_launcher.py:4: SettingWithCopyWarning: \n",
            "A value is trying to be set on a copy of a slice from a DataFrame.\n",
            "Try using .loc[row_indexer,col_indexer] = value instead\n",
            "\n",
            "See the caveats in the documentation: https://pandas.pydata.org/pandas-docs/stable/user_guide/indexing.html#returning-a-view-versus-a-copy\n",
            "  after removing the cwd from sys.path.\n",
            "/usr/local/lib/python3.7/dist-packages/ipykernel_launcher.py:5: SettingWithCopyWarning: \n",
            "A value is trying to be set on a copy of a slice from a DataFrame.\n",
            "Try using .loc[row_indexer,col_indexer] = value instead\n",
            "\n",
            "See the caveats in the documentation: https://pandas.pydata.org/pandas-docs/stable/user_guide/indexing.html#returning-a-view-versus-a-copy\n",
            "  \"\"\"\n",
            "/usr/local/lib/python3.7/dist-packages/pandas/core/frame.py:4174: SettingWithCopyWarning: \n",
            "A value is trying to be set on a copy of a slice from a DataFrame\n",
            "\n",
            "See the caveats in the documentation: https://pandas.pydata.org/pandas-docs/stable/user_guide/indexing.html#returning-a-view-versus-a-copy\n",
            "  errors=errors,\n",
            "/usr/local/lib/python3.7/dist-packages/ipykernel_launcher.py:12: SettingWithCopyWarning: \n",
            "A value is trying to be set on a copy of a slice from a DataFrame.\n",
            "Try using .loc[row_indexer,col_indexer] = value instead\n",
            "\n",
            "See the caveats in the documentation: https://pandas.pydata.org/pandas-docs/stable/user_guide/indexing.html#returning-a-view-versus-a-copy\n",
            "  if sys.path[0] == '':\n",
            "/usr/local/lib/python3.7/dist-packages/ipykernel_launcher.py:13: SettingWithCopyWarning: \n",
            "A value is trying to be set on a copy of a slice from a DataFrame.\n",
            "Try using .loc[row_indexer,col_indexer] = value instead\n",
            "\n",
            "See the caveats in the documentation: https://pandas.pydata.org/pandas-docs/stable/user_guide/indexing.html#returning-a-view-versus-a-copy\n",
            "  del sys.path[0]\n"
          ],
          "name": "stderr"
        }
      ]
    },
    {
      "cell_type": "code",
      "metadata": {
        "colab": {
          "base_uri": "https://localhost:8080/"
        },
        "id": "u1c0OSjXDfNK",
        "outputId": "18b105a8-3d01-4de9-ade2-fdedbd6d08d2"
      },
      "source": [
        "X_train['encoded_batch_enrolled'].head()"
      ],
      "id": "u1c0OSjXDfNK",
      "execution_count": 72,
      "outputs": [
        {
          "output_type": "execute_result",
          "data": {
            "text/plain": [
              "403902    74152.0\n",
              "208286     7801.0\n",
              "104199    74152.0\n",
              "459201    74152.0\n",
              "478793        NaN\n",
              "Name: encoded_batch_enrolled, dtype: float64"
            ]
          },
          "metadata": {
            "tags": []
          },
          "execution_count": 72
        }
      ]
    },
    {
      "cell_type": "markdown",
      "metadata": {
        "id": "f8dcc6b1"
      },
      "source": [
        "Encoding below emp_title & title on the basis of frequency of that category in that column, \n",
        "as these columns have huge no of categories in them. So as to make this categorical column as numerical. \n",
        "We are doing this for train, test & Unseen data"
      ],
      "id": "f8dcc6b1"
    },
    {
      "cell_type": "code",
      "metadata": {
        "colab": {
          "base_uri": "https://localhost:8080/"
        },
        "id": "c3513392",
        "outputId": "6fa887db-6781-45f3-89b5-ef790739013a"
      },
      "source": [
        "emp_title_Dict_train = X_train['emp_title'].value_counts()\n",
        "title_Dict_train = X_train['title'].value_counts()\n",
        "\n",
        "X_train['encoded_emp_title'] = X_train['emp_title'].map(emp_title_Dict_train)\n",
        "X_train['encoded_title'] = X_train['title'].map(title_Dict_train)\n",
        "\n",
        "X_train.drop(['emp_title', 'title'], axis=1, inplace=True)\n",
        "\n",
        "emp_title_Dict_test = X_test['emp_title'].value_counts()\n",
        "title_Dict_test = X_test['title'].value_counts()\n",
        "\n",
        "X_test['encoded_emp_title'] = X_test['emp_title'].map(emp_title_Dict_test)\n",
        "X_test['encoded_title'] = X_test['title'].map(title_Dict_test)\n",
        "\n",
        "X_test.drop(['emp_title', 'title'], axis=1, inplace=True)\n",
        "\n",
        "emp_title_Dict_test = X_Unseen_test['emp_title'].value_counts()\n",
        "title_Dict_test = X_Unseen_test['title'].value_counts()\n",
        "\n",
        "X_Unseen_test['encoded_emp_title'] = X_Unseen_test['emp_title'].map(emp_title_Dict_test)\n",
        "X_Unseen_test['encoded_title'] = X_Unseen_test['title'].map(title_Dict_test)\n",
        "\n",
        "X_Unseen_test.drop(['emp_title', 'title'], axis=1, inplace=True)"
      ],
      "id": "c3513392",
      "execution_count": 73,
      "outputs": [
        {
          "output_type": "stream",
          "text": [
            "/usr/local/lib/python3.7/dist-packages/ipykernel_launcher.py:4: SettingWithCopyWarning: \n",
            "A value is trying to be set on a copy of a slice from a DataFrame.\n",
            "Try using .loc[row_indexer,col_indexer] = value instead\n",
            "\n",
            "See the caveats in the documentation: https://pandas.pydata.org/pandas-docs/stable/user_guide/indexing.html#returning-a-view-versus-a-copy\n",
            "  after removing the cwd from sys.path.\n",
            "/usr/local/lib/python3.7/dist-packages/ipykernel_launcher.py:5: SettingWithCopyWarning: \n",
            "A value is trying to be set on a copy of a slice from a DataFrame.\n",
            "Try using .loc[row_indexer,col_indexer] = value instead\n",
            "\n",
            "See the caveats in the documentation: https://pandas.pydata.org/pandas-docs/stable/user_guide/indexing.html#returning-a-view-versus-a-copy\n",
            "  \"\"\"\n",
            "/usr/local/lib/python3.7/dist-packages/pandas/core/frame.py:4174: SettingWithCopyWarning: \n",
            "A value is trying to be set on a copy of a slice from a DataFrame\n",
            "\n",
            "See the caveats in the documentation: https://pandas.pydata.org/pandas-docs/stable/user_guide/indexing.html#returning-a-view-versus-a-copy\n",
            "  errors=errors,\n",
            "/usr/local/lib/python3.7/dist-packages/ipykernel_launcher.py:12: SettingWithCopyWarning: \n",
            "A value is trying to be set on a copy of a slice from a DataFrame.\n",
            "Try using .loc[row_indexer,col_indexer] = value instead\n",
            "\n",
            "See the caveats in the documentation: https://pandas.pydata.org/pandas-docs/stable/user_guide/indexing.html#returning-a-view-versus-a-copy\n",
            "  if sys.path[0] == '':\n",
            "/usr/local/lib/python3.7/dist-packages/ipykernel_launcher.py:13: SettingWithCopyWarning: \n",
            "A value is trying to be set on a copy of a slice from a DataFrame.\n",
            "Try using .loc[row_indexer,col_indexer] = value instead\n",
            "\n",
            "See the caveats in the documentation: https://pandas.pydata.org/pandas-docs/stable/user_guide/indexing.html#returning-a-view-versus-a-copy\n",
            "  del sys.path[0]\n"
          ],
          "name": "stderr"
        }
      ]
    },
    {
      "cell_type": "markdown",
      "metadata": {
        "id": "9df00749"
      },
      "source": [
        "Imputing each numerical column with the median value, so as to reduce the effect of outliers in train data"
      ],
      "id": "9df00749"
    },
    {
      "cell_type": "code",
      "metadata": {
        "colab": {
          "base_uri": "https://localhost:8080/"
        },
        "id": "27866cfc",
        "outputId": "d3a498db-97b6-4f56-95a9-1ebdf430c754"
      },
      "source": [
        "X_train['loan_amnt'] = X_train['loan_amnt'].fillna(X_train['loan_amnt'].median())\n",
        "X_train['collections_12_mths_ex_med'] = X_train['collections_12_mths_ex_med'].fillna(X_train['collections_12_mths_ex_med'].median())\n",
        "X_train['funded_amnt'] = X_train['funded_amnt'].fillna(X_train['funded_amnt'].median())\n",
        "X_train['funded_amnt_inv'] = X_train['funded_amnt_inv'].fillna(X_train['funded_amnt_inv'].median())\n",
        "X_train['int_rate'] = X_train['int_rate'].fillna(X_train['int_rate'].median())\n",
        "X_train['annual_inc'] = X_train['annual_inc'].fillna(X_train['annual_inc'].median())\n",
        "X_train['revol_bal'] = X_train['revol_bal'].fillna(X_train['revol_bal'].median())\n",
        "X_train['revol_util'] = X_train['revol_util'].fillna(X_train['revol_util'].median())\n",
        "X_train['total_rec_int'] = X_train['total_rec_int'].fillna(X_train['total_rec_int'].median())\n",
        "X_train['total_rec_late_fee'] = X_train['total_rec_late_fee'].fillna(X_train['total_rec_late_fee'].median())\n",
        "X_train['recoveries'] = X_train['recoveries'].fillna(X_train['recoveries'].median())\n",
        "X_train['collection_recovery_fee'] = X_train['collection_recovery_fee'].fillna(X_train['collection_recovery_fee'].median())\n",
        "X_train['tot_coll_amt'] = X_train['tot_coll_amt'].fillna(X_train['tot_coll_amt'].median())\n",
        "X_train['tot_cur_bal'] = X_train['tot_cur_bal'].fillna(X_train['tot_cur_bal'].median())\n",
        "X_train['total_rev_hi_lim'] = X_train['total_rev_hi_lim'].fillna(X_train['total_rev_hi_lim'].median())\n",
        "X_train['dti'] = X_train['dti'].fillna(X_train['dti'].median())\n",
        "X_train['mths_since_last_major_derog'] = X_train['mths_since_last_major_derog'].fillna(X_train['mths_since_last_major_derog'].median())\n",
        "X_train['mths_since_last_delinq'] = X_train['mths_since_last_delinq'].fillna(X_train['mths_since_last_delinq'].median())\n",
        "X_train['mths_since_last_record'] = X_train['mths_since_last_record'].fillna(X_train['mths_since_last_record'].median())\n",
        "X_train['open_acc'] = X_train['open_acc'].fillna(X_train['open_acc'].median())\n",
        "X_train['total_acc'] = X_train['total_acc'].fillna(X_train['total_acc'].median())\n",
        "X_train['delinq_2yrs'] = X_train['delinq_2yrs'].fillna(X_train['delinq_2yrs'].median())\n",
        "X_train['inq_last_6mths'] = X_train['inq_last_6mths'].fillna(X_train['inq_last_6mths'].median())\n",
        "X_train['pub_rec'] = X_train['pub_rec'].fillna(X_train['pub_rec'].median())\n",
        "X_train['acc_now_delinq'] = X_train['acc_now_delinq'].fillna(X_train['acc_now_delinq'].median())\n",
        "X_train['encoded_emp_title'] = X_train['encoded_emp_title'].fillna(X_train['encoded_emp_title'].median())\n",
        "X_train['encoded_title'] = X_train['encoded_title'].fillna(X_train['encoded_title'].median())\n",
        "X_train['encoded_zip_code'] = X_train['encoded_zip_code'].fillna(X_train['encoded_zip_code'].median())\n",
        "X_train['encoded_batch_enrolled'] = X_train['encoded_batch_enrolled'].fillna(X_train['encoded_batch_enrolled'].median())\n"
      ],
      "id": "27866cfc",
      "execution_count": 74,
      "outputs": [
        {
          "output_type": "stream",
          "text": [
            "/usr/local/lib/python3.7/dist-packages/ipykernel_launcher.py:1: SettingWithCopyWarning: \n",
            "A value is trying to be set on a copy of a slice from a DataFrame.\n",
            "Try using .loc[row_indexer,col_indexer] = value instead\n",
            "\n",
            "See the caveats in the documentation: https://pandas.pydata.org/pandas-docs/stable/user_guide/indexing.html#returning-a-view-versus-a-copy\n",
            "  \"\"\"Entry point for launching an IPython kernel.\n",
            "/usr/local/lib/python3.7/dist-packages/ipykernel_launcher.py:2: SettingWithCopyWarning: \n",
            "A value is trying to be set on a copy of a slice from a DataFrame.\n",
            "Try using .loc[row_indexer,col_indexer] = value instead\n",
            "\n",
            "See the caveats in the documentation: https://pandas.pydata.org/pandas-docs/stable/user_guide/indexing.html#returning-a-view-versus-a-copy\n",
            "  \n",
            "/usr/local/lib/python3.7/dist-packages/ipykernel_launcher.py:3: SettingWithCopyWarning: \n",
            "A value is trying to be set on a copy of a slice from a DataFrame.\n",
            "Try using .loc[row_indexer,col_indexer] = value instead\n",
            "\n",
            "See the caveats in the documentation: https://pandas.pydata.org/pandas-docs/stable/user_guide/indexing.html#returning-a-view-versus-a-copy\n",
            "  This is separate from the ipykernel package so we can avoid doing imports until\n",
            "/usr/local/lib/python3.7/dist-packages/ipykernel_launcher.py:4: SettingWithCopyWarning: \n",
            "A value is trying to be set on a copy of a slice from a DataFrame.\n",
            "Try using .loc[row_indexer,col_indexer] = value instead\n",
            "\n",
            "See the caveats in the documentation: https://pandas.pydata.org/pandas-docs/stable/user_guide/indexing.html#returning-a-view-versus-a-copy\n",
            "  after removing the cwd from sys.path.\n",
            "/usr/local/lib/python3.7/dist-packages/ipykernel_launcher.py:5: SettingWithCopyWarning: \n",
            "A value is trying to be set on a copy of a slice from a DataFrame.\n",
            "Try using .loc[row_indexer,col_indexer] = value instead\n",
            "\n",
            "See the caveats in the documentation: https://pandas.pydata.org/pandas-docs/stable/user_guide/indexing.html#returning-a-view-versus-a-copy\n",
            "  \"\"\"\n",
            "/usr/local/lib/python3.7/dist-packages/ipykernel_launcher.py:6: SettingWithCopyWarning: \n",
            "A value is trying to be set on a copy of a slice from a DataFrame.\n",
            "Try using .loc[row_indexer,col_indexer] = value instead\n",
            "\n",
            "See the caveats in the documentation: https://pandas.pydata.org/pandas-docs/stable/user_guide/indexing.html#returning-a-view-versus-a-copy\n",
            "  \n",
            "/usr/local/lib/python3.7/dist-packages/ipykernel_launcher.py:7: SettingWithCopyWarning: \n",
            "A value is trying to be set on a copy of a slice from a DataFrame.\n",
            "Try using .loc[row_indexer,col_indexer] = value instead\n",
            "\n",
            "See the caveats in the documentation: https://pandas.pydata.org/pandas-docs/stable/user_guide/indexing.html#returning-a-view-versus-a-copy\n",
            "  import sys\n",
            "/usr/local/lib/python3.7/dist-packages/ipykernel_launcher.py:8: SettingWithCopyWarning: \n",
            "A value is trying to be set on a copy of a slice from a DataFrame.\n",
            "Try using .loc[row_indexer,col_indexer] = value instead\n",
            "\n",
            "See the caveats in the documentation: https://pandas.pydata.org/pandas-docs/stable/user_guide/indexing.html#returning-a-view-versus-a-copy\n",
            "  \n",
            "/usr/local/lib/python3.7/dist-packages/ipykernel_launcher.py:9: SettingWithCopyWarning: \n",
            "A value is trying to be set on a copy of a slice from a DataFrame.\n",
            "Try using .loc[row_indexer,col_indexer] = value instead\n",
            "\n",
            "See the caveats in the documentation: https://pandas.pydata.org/pandas-docs/stable/user_guide/indexing.html#returning-a-view-versus-a-copy\n",
            "  if __name__ == '__main__':\n",
            "/usr/local/lib/python3.7/dist-packages/ipykernel_launcher.py:10: SettingWithCopyWarning: \n",
            "A value is trying to be set on a copy of a slice from a DataFrame.\n",
            "Try using .loc[row_indexer,col_indexer] = value instead\n",
            "\n",
            "See the caveats in the documentation: https://pandas.pydata.org/pandas-docs/stable/user_guide/indexing.html#returning-a-view-versus-a-copy\n",
            "  # Remove the CWD from sys.path while we load stuff.\n",
            "/usr/local/lib/python3.7/dist-packages/ipykernel_launcher.py:11: SettingWithCopyWarning: \n",
            "A value is trying to be set on a copy of a slice from a DataFrame.\n",
            "Try using .loc[row_indexer,col_indexer] = value instead\n",
            "\n",
            "See the caveats in the documentation: https://pandas.pydata.org/pandas-docs/stable/user_guide/indexing.html#returning-a-view-versus-a-copy\n",
            "  # This is added back by InteractiveShellApp.init_path()\n",
            "/usr/local/lib/python3.7/dist-packages/ipykernel_launcher.py:12: SettingWithCopyWarning: \n",
            "A value is trying to be set on a copy of a slice from a DataFrame.\n",
            "Try using .loc[row_indexer,col_indexer] = value instead\n",
            "\n",
            "See the caveats in the documentation: https://pandas.pydata.org/pandas-docs/stable/user_guide/indexing.html#returning-a-view-versus-a-copy\n",
            "  if sys.path[0] == '':\n",
            "/usr/local/lib/python3.7/dist-packages/ipykernel_launcher.py:13: SettingWithCopyWarning: \n",
            "A value is trying to be set on a copy of a slice from a DataFrame.\n",
            "Try using .loc[row_indexer,col_indexer] = value instead\n",
            "\n",
            "See the caveats in the documentation: https://pandas.pydata.org/pandas-docs/stable/user_guide/indexing.html#returning-a-view-versus-a-copy\n",
            "  del sys.path[0]\n",
            "/usr/local/lib/python3.7/dist-packages/ipykernel_launcher.py:14: SettingWithCopyWarning: \n",
            "A value is trying to be set on a copy of a slice from a DataFrame.\n",
            "Try using .loc[row_indexer,col_indexer] = value instead\n",
            "\n",
            "See the caveats in the documentation: https://pandas.pydata.org/pandas-docs/stable/user_guide/indexing.html#returning-a-view-versus-a-copy\n",
            "  \n",
            "/usr/local/lib/python3.7/dist-packages/ipykernel_launcher.py:15: SettingWithCopyWarning: \n",
            "A value is trying to be set on a copy of a slice from a DataFrame.\n",
            "Try using .loc[row_indexer,col_indexer] = value instead\n",
            "\n",
            "See the caveats in the documentation: https://pandas.pydata.org/pandas-docs/stable/user_guide/indexing.html#returning-a-view-versus-a-copy\n",
            "  from ipykernel import kernelapp as app\n",
            "/usr/local/lib/python3.7/dist-packages/ipykernel_launcher.py:16: SettingWithCopyWarning: \n",
            "A value is trying to be set on a copy of a slice from a DataFrame.\n",
            "Try using .loc[row_indexer,col_indexer] = value instead\n",
            "\n",
            "See the caveats in the documentation: https://pandas.pydata.org/pandas-docs/stable/user_guide/indexing.html#returning-a-view-versus-a-copy\n",
            "  app.launch_new_instance()\n",
            "/usr/local/lib/python3.7/dist-packages/ipykernel_launcher.py:17: SettingWithCopyWarning: \n",
            "A value is trying to be set on a copy of a slice from a DataFrame.\n",
            "Try using .loc[row_indexer,col_indexer] = value instead\n",
            "\n",
            "See the caveats in the documentation: https://pandas.pydata.org/pandas-docs/stable/user_guide/indexing.html#returning-a-view-versus-a-copy\n",
            "/usr/local/lib/python3.7/dist-packages/ipykernel_launcher.py:18: SettingWithCopyWarning: \n",
            "A value is trying to be set on a copy of a slice from a DataFrame.\n",
            "Try using .loc[row_indexer,col_indexer] = value instead\n",
            "\n",
            "See the caveats in the documentation: https://pandas.pydata.org/pandas-docs/stable/user_guide/indexing.html#returning-a-view-versus-a-copy\n",
            "/usr/local/lib/python3.7/dist-packages/ipykernel_launcher.py:19: SettingWithCopyWarning: \n",
            "A value is trying to be set on a copy of a slice from a DataFrame.\n",
            "Try using .loc[row_indexer,col_indexer] = value instead\n",
            "\n",
            "See the caveats in the documentation: https://pandas.pydata.org/pandas-docs/stable/user_guide/indexing.html#returning-a-view-versus-a-copy\n",
            "/usr/local/lib/python3.7/dist-packages/ipykernel_launcher.py:20: SettingWithCopyWarning: \n",
            "A value is trying to be set on a copy of a slice from a DataFrame.\n",
            "Try using .loc[row_indexer,col_indexer] = value instead\n",
            "\n",
            "See the caveats in the documentation: https://pandas.pydata.org/pandas-docs/stable/user_guide/indexing.html#returning-a-view-versus-a-copy\n",
            "/usr/local/lib/python3.7/dist-packages/ipykernel_launcher.py:21: SettingWithCopyWarning: \n",
            "A value is trying to be set on a copy of a slice from a DataFrame.\n",
            "Try using .loc[row_indexer,col_indexer] = value instead\n",
            "\n",
            "See the caveats in the documentation: https://pandas.pydata.org/pandas-docs/stable/user_guide/indexing.html#returning-a-view-versus-a-copy\n",
            "/usr/local/lib/python3.7/dist-packages/ipykernel_launcher.py:22: SettingWithCopyWarning: \n",
            "A value is trying to be set on a copy of a slice from a DataFrame.\n",
            "Try using .loc[row_indexer,col_indexer] = value instead\n",
            "\n",
            "See the caveats in the documentation: https://pandas.pydata.org/pandas-docs/stable/user_guide/indexing.html#returning-a-view-versus-a-copy\n",
            "/usr/local/lib/python3.7/dist-packages/ipykernel_launcher.py:23: SettingWithCopyWarning: \n",
            "A value is trying to be set on a copy of a slice from a DataFrame.\n",
            "Try using .loc[row_indexer,col_indexer] = value instead\n",
            "\n",
            "See the caveats in the documentation: https://pandas.pydata.org/pandas-docs/stable/user_guide/indexing.html#returning-a-view-versus-a-copy\n",
            "/usr/local/lib/python3.7/dist-packages/ipykernel_launcher.py:24: SettingWithCopyWarning: \n",
            "A value is trying to be set on a copy of a slice from a DataFrame.\n",
            "Try using .loc[row_indexer,col_indexer] = value instead\n",
            "\n",
            "See the caveats in the documentation: https://pandas.pydata.org/pandas-docs/stable/user_guide/indexing.html#returning-a-view-versus-a-copy\n",
            "/usr/local/lib/python3.7/dist-packages/ipykernel_launcher.py:25: SettingWithCopyWarning: \n",
            "A value is trying to be set on a copy of a slice from a DataFrame.\n",
            "Try using .loc[row_indexer,col_indexer] = value instead\n",
            "\n",
            "See the caveats in the documentation: https://pandas.pydata.org/pandas-docs/stable/user_guide/indexing.html#returning-a-view-versus-a-copy\n",
            "/usr/local/lib/python3.7/dist-packages/ipykernel_launcher.py:26: SettingWithCopyWarning: \n",
            "A value is trying to be set on a copy of a slice from a DataFrame.\n",
            "Try using .loc[row_indexer,col_indexer] = value instead\n",
            "\n",
            "See the caveats in the documentation: https://pandas.pydata.org/pandas-docs/stable/user_guide/indexing.html#returning-a-view-versus-a-copy\n",
            "/usr/local/lib/python3.7/dist-packages/ipykernel_launcher.py:27: SettingWithCopyWarning: \n",
            "A value is trying to be set on a copy of a slice from a DataFrame.\n",
            "Try using .loc[row_indexer,col_indexer] = value instead\n",
            "\n",
            "See the caveats in the documentation: https://pandas.pydata.org/pandas-docs/stable/user_guide/indexing.html#returning-a-view-versus-a-copy\n",
            "/usr/local/lib/python3.7/dist-packages/ipykernel_launcher.py:28: SettingWithCopyWarning: \n",
            "A value is trying to be set on a copy of a slice from a DataFrame.\n",
            "Try using .loc[row_indexer,col_indexer] = value instead\n",
            "\n",
            "See the caveats in the documentation: https://pandas.pydata.org/pandas-docs/stable/user_guide/indexing.html#returning-a-view-versus-a-copy\n",
            "/usr/local/lib/python3.7/dist-packages/ipykernel_launcher.py:29: SettingWithCopyWarning: \n",
            "A value is trying to be set on a copy of a slice from a DataFrame.\n",
            "Try using .loc[row_indexer,col_indexer] = value instead\n",
            "\n",
            "See the caveats in the documentation: https://pandas.pydata.org/pandas-docs/stable/user_guide/indexing.html#returning-a-view-versus-a-copy\n"
          ],
          "name": "stderr"
        }
      ]
    },
    {
      "cell_type": "markdown",
      "metadata": {
        "id": "45d1927a"
      },
      "source": [
        "Imputing each numerical column with the median value, so as to reduce the effect of outliers in test data"
      ],
      "id": "45d1927a"
    },
    {
      "cell_type": "code",
      "metadata": {
        "colab": {
          "base_uri": "https://localhost:8080/"
        },
        "id": "7daec5be",
        "outputId": "8365e94d-579f-431b-9bc6-43537d57a46b"
      },
      "source": [
        "X_test['loan_amnt'] = X_test['loan_amnt'].fillna(X_test['loan_amnt'].median())\n",
        "X_test['collections_12_mths_ex_med'] = X_test['collections_12_mths_ex_med'].fillna(X_test['collections_12_mths_ex_med'].median())\n",
        "X_test['funded_amnt'] = X_test['funded_amnt'].fillna(X_test['funded_amnt'].median())\n",
        "X_test['funded_amnt_inv'] = X_test['funded_amnt_inv'].fillna(X_test['funded_amnt_inv'].median())\n",
        "X_test['int_rate'] = X_test['int_rate'].fillna(X_test['int_rate'].median())\n",
        "X_test['annual_inc'] = X_test['annual_inc'].fillna(X_test['annual_inc'].median())\n",
        "X_test['revol_bal'] = X_test['revol_bal'].fillna(X_test['revol_bal'].median())\n",
        "X_test['revol_util'] = X_test['revol_util'].fillna(X_test['revol_util'].median())\n",
        "X_test['total_rec_int'] = X_test['total_rec_int'].fillna(X_test['total_rec_int'].median())\n",
        "X_test['total_rec_late_fee'] = X_test['total_rec_late_fee'].fillna(X_test['total_rec_late_fee'].median())\n",
        "X_test['recoveries'] = X_test['recoveries'].fillna(X_test['recoveries'].median())\n",
        "X_test['collection_recovery_fee'] = X_test['collection_recovery_fee'].fillna(X_test['collection_recovery_fee'].median())\n",
        "X_test['tot_coll_amt'] = X_test['tot_coll_amt'].fillna(X_test['tot_coll_amt'].median())\n",
        "X_test['tot_cur_bal'] = X_test['tot_cur_bal'].fillna(X_test['tot_cur_bal'].median())\n",
        "X_test['total_rev_hi_lim'] = X_test['total_rev_hi_lim'].fillna(X_test['total_rev_hi_lim'].median())\n",
        "X_test['dti'] = X_test['dti'].fillna(X_test['dti'].median())\n",
        "X_test['mths_since_last_major_derog'] = X_test['mths_since_last_major_derog'].fillna(X_test['mths_since_last_major_derog'].median())\n",
        "X_test['mths_since_last_delinq'] = X_test['mths_since_last_delinq'].fillna(X_test['mths_since_last_delinq'].median())\n",
        "X_test['mths_since_last_record'] = X_test['mths_since_last_record'].fillna(X_test['mths_since_last_record'].median())\n",
        "X_test['open_acc'] = X_test['open_acc'].fillna(X_test['open_acc'].median())\n",
        "X_test['total_acc'] = X_test['total_acc'].fillna(X_test['total_acc'].median())\n",
        "X_test['delinq_2yrs'] = X_test['delinq_2yrs'].fillna(X_test['delinq_2yrs'].median())\n",
        "X_test['inq_last_6mths'] = X_test['inq_last_6mths'].fillna(X_test['inq_last_6mths'].median())\n",
        "X_test['pub_rec'] = X_test['pub_rec'].fillna(X_test['pub_rec'].median())\n",
        "X_test['acc_now_delinq'] = X_test['acc_now_delinq'].fillna(X_test['acc_now_delinq'].median())\n",
        "X_test['encoded_emp_title'] = X_test['encoded_emp_title'].fillna(X_test['encoded_emp_title'].median())\n",
        "X_test['encoded_title'] = X_test['encoded_title'].fillna(X_test['encoded_title'].median())\n",
        "X_test['encoded_zip_code'] = X_test['encoded_zip_code'].fillna(X_test['encoded_zip_code'].median())\n",
        "X_test['encoded_batch_enrolled'] = X_test['encoded_batch_enrolled'].fillna(X_test['encoded_batch_enrolled'].median())"
      ],
      "id": "7daec5be",
      "execution_count": 75,
      "outputs": [
        {
          "output_type": "stream",
          "text": [
            "/usr/local/lib/python3.7/dist-packages/ipykernel_launcher.py:1: SettingWithCopyWarning: \n",
            "A value is trying to be set on a copy of a slice from a DataFrame.\n",
            "Try using .loc[row_indexer,col_indexer] = value instead\n",
            "\n",
            "See the caveats in the documentation: https://pandas.pydata.org/pandas-docs/stable/user_guide/indexing.html#returning-a-view-versus-a-copy\n",
            "  \"\"\"Entry point for launching an IPython kernel.\n",
            "/usr/local/lib/python3.7/dist-packages/ipykernel_launcher.py:2: SettingWithCopyWarning: \n",
            "A value is trying to be set on a copy of a slice from a DataFrame.\n",
            "Try using .loc[row_indexer,col_indexer] = value instead\n",
            "\n",
            "See the caveats in the documentation: https://pandas.pydata.org/pandas-docs/stable/user_guide/indexing.html#returning-a-view-versus-a-copy\n",
            "  \n",
            "/usr/local/lib/python3.7/dist-packages/ipykernel_launcher.py:3: SettingWithCopyWarning: \n",
            "A value is trying to be set on a copy of a slice from a DataFrame.\n",
            "Try using .loc[row_indexer,col_indexer] = value instead\n",
            "\n",
            "See the caveats in the documentation: https://pandas.pydata.org/pandas-docs/stable/user_guide/indexing.html#returning-a-view-versus-a-copy\n",
            "  This is separate from the ipykernel package so we can avoid doing imports until\n",
            "/usr/local/lib/python3.7/dist-packages/ipykernel_launcher.py:4: SettingWithCopyWarning: \n",
            "A value is trying to be set on a copy of a slice from a DataFrame.\n",
            "Try using .loc[row_indexer,col_indexer] = value instead\n",
            "\n",
            "See the caveats in the documentation: https://pandas.pydata.org/pandas-docs/stable/user_guide/indexing.html#returning-a-view-versus-a-copy\n",
            "  after removing the cwd from sys.path.\n",
            "/usr/local/lib/python3.7/dist-packages/ipykernel_launcher.py:5: SettingWithCopyWarning: \n",
            "A value is trying to be set on a copy of a slice from a DataFrame.\n",
            "Try using .loc[row_indexer,col_indexer] = value instead\n",
            "\n",
            "See the caveats in the documentation: https://pandas.pydata.org/pandas-docs/stable/user_guide/indexing.html#returning-a-view-versus-a-copy\n",
            "  \"\"\"\n",
            "/usr/local/lib/python3.7/dist-packages/ipykernel_launcher.py:6: SettingWithCopyWarning: \n",
            "A value is trying to be set on a copy of a slice from a DataFrame.\n",
            "Try using .loc[row_indexer,col_indexer] = value instead\n",
            "\n",
            "See the caveats in the documentation: https://pandas.pydata.org/pandas-docs/stable/user_guide/indexing.html#returning-a-view-versus-a-copy\n",
            "  \n",
            "/usr/local/lib/python3.7/dist-packages/ipykernel_launcher.py:7: SettingWithCopyWarning: \n",
            "A value is trying to be set on a copy of a slice from a DataFrame.\n",
            "Try using .loc[row_indexer,col_indexer] = value instead\n",
            "\n",
            "See the caveats in the documentation: https://pandas.pydata.org/pandas-docs/stable/user_guide/indexing.html#returning-a-view-versus-a-copy\n",
            "  import sys\n",
            "/usr/local/lib/python3.7/dist-packages/ipykernel_launcher.py:8: SettingWithCopyWarning: \n",
            "A value is trying to be set on a copy of a slice from a DataFrame.\n",
            "Try using .loc[row_indexer,col_indexer] = value instead\n",
            "\n",
            "See the caveats in the documentation: https://pandas.pydata.org/pandas-docs/stable/user_guide/indexing.html#returning-a-view-versus-a-copy\n",
            "  \n",
            "/usr/local/lib/python3.7/dist-packages/ipykernel_launcher.py:9: SettingWithCopyWarning: \n",
            "A value is trying to be set on a copy of a slice from a DataFrame.\n",
            "Try using .loc[row_indexer,col_indexer] = value instead\n",
            "\n",
            "See the caveats in the documentation: https://pandas.pydata.org/pandas-docs/stable/user_guide/indexing.html#returning-a-view-versus-a-copy\n",
            "  if __name__ == '__main__':\n",
            "/usr/local/lib/python3.7/dist-packages/ipykernel_launcher.py:10: SettingWithCopyWarning: \n",
            "A value is trying to be set on a copy of a slice from a DataFrame.\n",
            "Try using .loc[row_indexer,col_indexer] = value instead\n",
            "\n",
            "See the caveats in the documentation: https://pandas.pydata.org/pandas-docs/stable/user_guide/indexing.html#returning-a-view-versus-a-copy\n",
            "  # Remove the CWD from sys.path while we load stuff.\n",
            "/usr/local/lib/python3.7/dist-packages/ipykernel_launcher.py:11: SettingWithCopyWarning: \n",
            "A value is trying to be set on a copy of a slice from a DataFrame.\n",
            "Try using .loc[row_indexer,col_indexer] = value instead\n",
            "\n",
            "See the caveats in the documentation: https://pandas.pydata.org/pandas-docs/stable/user_guide/indexing.html#returning-a-view-versus-a-copy\n",
            "  # This is added back by InteractiveShellApp.init_path()\n",
            "/usr/local/lib/python3.7/dist-packages/ipykernel_launcher.py:12: SettingWithCopyWarning: \n",
            "A value is trying to be set on a copy of a slice from a DataFrame.\n",
            "Try using .loc[row_indexer,col_indexer] = value instead\n",
            "\n",
            "See the caveats in the documentation: https://pandas.pydata.org/pandas-docs/stable/user_guide/indexing.html#returning-a-view-versus-a-copy\n",
            "  if sys.path[0] == '':\n",
            "/usr/local/lib/python3.7/dist-packages/ipykernel_launcher.py:13: SettingWithCopyWarning: \n",
            "A value is trying to be set on a copy of a slice from a DataFrame.\n",
            "Try using .loc[row_indexer,col_indexer] = value instead\n",
            "\n",
            "See the caveats in the documentation: https://pandas.pydata.org/pandas-docs/stable/user_guide/indexing.html#returning-a-view-versus-a-copy\n",
            "  del sys.path[0]\n",
            "/usr/local/lib/python3.7/dist-packages/ipykernel_launcher.py:14: SettingWithCopyWarning: \n",
            "A value is trying to be set on a copy of a slice from a DataFrame.\n",
            "Try using .loc[row_indexer,col_indexer] = value instead\n",
            "\n",
            "See the caveats in the documentation: https://pandas.pydata.org/pandas-docs/stable/user_guide/indexing.html#returning-a-view-versus-a-copy\n",
            "  \n",
            "/usr/local/lib/python3.7/dist-packages/ipykernel_launcher.py:15: SettingWithCopyWarning: \n",
            "A value is trying to be set on a copy of a slice from a DataFrame.\n",
            "Try using .loc[row_indexer,col_indexer] = value instead\n",
            "\n",
            "See the caveats in the documentation: https://pandas.pydata.org/pandas-docs/stable/user_guide/indexing.html#returning-a-view-versus-a-copy\n",
            "  from ipykernel import kernelapp as app\n",
            "/usr/local/lib/python3.7/dist-packages/ipykernel_launcher.py:16: SettingWithCopyWarning: \n",
            "A value is trying to be set on a copy of a slice from a DataFrame.\n",
            "Try using .loc[row_indexer,col_indexer] = value instead\n",
            "\n",
            "See the caveats in the documentation: https://pandas.pydata.org/pandas-docs/stable/user_guide/indexing.html#returning-a-view-versus-a-copy\n",
            "  app.launch_new_instance()\n",
            "/usr/local/lib/python3.7/dist-packages/ipykernel_launcher.py:17: SettingWithCopyWarning: \n",
            "A value is trying to be set on a copy of a slice from a DataFrame.\n",
            "Try using .loc[row_indexer,col_indexer] = value instead\n",
            "\n",
            "See the caveats in the documentation: https://pandas.pydata.org/pandas-docs/stable/user_guide/indexing.html#returning-a-view-versus-a-copy\n",
            "/usr/local/lib/python3.7/dist-packages/ipykernel_launcher.py:18: SettingWithCopyWarning: \n",
            "A value is trying to be set on a copy of a slice from a DataFrame.\n",
            "Try using .loc[row_indexer,col_indexer] = value instead\n",
            "\n",
            "See the caveats in the documentation: https://pandas.pydata.org/pandas-docs/stable/user_guide/indexing.html#returning-a-view-versus-a-copy\n",
            "/usr/local/lib/python3.7/dist-packages/ipykernel_launcher.py:19: SettingWithCopyWarning: \n",
            "A value is trying to be set on a copy of a slice from a DataFrame.\n",
            "Try using .loc[row_indexer,col_indexer] = value instead\n",
            "\n",
            "See the caveats in the documentation: https://pandas.pydata.org/pandas-docs/stable/user_guide/indexing.html#returning-a-view-versus-a-copy\n",
            "/usr/local/lib/python3.7/dist-packages/ipykernel_launcher.py:20: SettingWithCopyWarning: \n",
            "A value is trying to be set on a copy of a slice from a DataFrame.\n",
            "Try using .loc[row_indexer,col_indexer] = value instead\n",
            "\n",
            "See the caveats in the documentation: https://pandas.pydata.org/pandas-docs/stable/user_guide/indexing.html#returning-a-view-versus-a-copy\n",
            "/usr/local/lib/python3.7/dist-packages/ipykernel_launcher.py:21: SettingWithCopyWarning: \n",
            "A value is trying to be set on a copy of a slice from a DataFrame.\n",
            "Try using .loc[row_indexer,col_indexer] = value instead\n",
            "\n",
            "See the caveats in the documentation: https://pandas.pydata.org/pandas-docs/stable/user_guide/indexing.html#returning-a-view-versus-a-copy\n",
            "/usr/local/lib/python3.7/dist-packages/ipykernel_launcher.py:22: SettingWithCopyWarning: \n",
            "A value is trying to be set on a copy of a slice from a DataFrame.\n",
            "Try using .loc[row_indexer,col_indexer] = value instead\n",
            "\n",
            "See the caveats in the documentation: https://pandas.pydata.org/pandas-docs/stable/user_guide/indexing.html#returning-a-view-versus-a-copy\n",
            "/usr/local/lib/python3.7/dist-packages/ipykernel_launcher.py:23: SettingWithCopyWarning: \n",
            "A value is trying to be set on a copy of a slice from a DataFrame.\n",
            "Try using .loc[row_indexer,col_indexer] = value instead\n",
            "\n",
            "See the caveats in the documentation: https://pandas.pydata.org/pandas-docs/stable/user_guide/indexing.html#returning-a-view-versus-a-copy\n",
            "/usr/local/lib/python3.7/dist-packages/ipykernel_launcher.py:24: SettingWithCopyWarning: \n",
            "A value is trying to be set on a copy of a slice from a DataFrame.\n",
            "Try using .loc[row_indexer,col_indexer] = value instead\n",
            "\n",
            "See the caveats in the documentation: https://pandas.pydata.org/pandas-docs/stable/user_guide/indexing.html#returning-a-view-versus-a-copy\n",
            "/usr/local/lib/python3.7/dist-packages/ipykernel_launcher.py:25: SettingWithCopyWarning: \n",
            "A value is trying to be set on a copy of a slice from a DataFrame.\n",
            "Try using .loc[row_indexer,col_indexer] = value instead\n",
            "\n",
            "See the caveats in the documentation: https://pandas.pydata.org/pandas-docs/stable/user_guide/indexing.html#returning-a-view-versus-a-copy\n",
            "/usr/local/lib/python3.7/dist-packages/ipykernel_launcher.py:26: SettingWithCopyWarning: \n",
            "A value is trying to be set on a copy of a slice from a DataFrame.\n",
            "Try using .loc[row_indexer,col_indexer] = value instead\n",
            "\n",
            "See the caveats in the documentation: https://pandas.pydata.org/pandas-docs/stable/user_guide/indexing.html#returning-a-view-versus-a-copy\n",
            "/usr/local/lib/python3.7/dist-packages/ipykernel_launcher.py:27: SettingWithCopyWarning: \n",
            "A value is trying to be set on a copy of a slice from a DataFrame.\n",
            "Try using .loc[row_indexer,col_indexer] = value instead\n",
            "\n",
            "See the caveats in the documentation: https://pandas.pydata.org/pandas-docs/stable/user_guide/indexing.html#returning-a-view-versus-a-copy\n",
            "/usr/local/lib/python3.7/dist-packages/ipykernel_launcher.py:28: SettingWithCopyWarning: \n",
            "A value is trying to be set on a copy of a slice from a DataFrame.\n",
            "Try using .loc[row_indexer,col_indexer] = value instead\n",
            "\n",
            "See the caveats in the documentation: https://pandas.pydata.org/pandas-docs/stable/user_guide/indexing.html#returning-a-view-versus-a-copy\n",
            "/usr/local/lib/python3.7/dist-packages/ipykernel_launcher.py:29: SettingWithCopyWarning: \n",
            "A value is trying to be set on a copy of a slice from a DataFrame.\n",
            "Try using .loc[row_indexer,col_indexer] = value instead\n",
            "\n",
            "See the caveats in the documentation: https://pandas.pydata.org/pandas-docs/stable/user_guide/indexing.html#returning-a-view-versus-a-copy\n"
          ],
          "name": "stderr"
        }
      ]
    },
    {
      "cell_type": "markdown",
      "metadata": {
        "id": "Cm2EEJFZuPma"
      },
      "source": [
        "Imputing each numerical column with the median value, so as to reduce the effect of outliers in Unseen test data"
      ],
      "id": "Cm2EEJFZuPma"
    },
    {
      "cell_type": "code",
      "metadata": {
        "id": "sLjvpJoPuMyJ"
      },
      "source": [
        "X_Unseen_test['loan_amnt'] = X_Unseen_test['loan_amnt'].fillna(X_Unseen_test['loan_amnt'].median())\n",
        "X_Unseen_test['collections_12_mths_ex_med'] = X_Unseen_test['collections_12_mths_ex_med'].fillna(X_Unseen_test['collections_12_mths_ex_med'].median())\n",
        "X_Unseen_test['funded_amnt'] = X_Unseen_test['funded_amnt'].fillna(X_Unseen_test['funded_amnt'].median())\n",
        "X_Unseen_test['funded_amnt_inv'] = X_Unseen_test['funded_amnt_inv'].fillna(X_Unseen_test['funded_amnt_inv'].median())\n",
        "X_Unseen_test['int_rate'] = X_Unseen_test['int_rate'].fillna(X_Unseen_test['int_rate'].median())\n",
        "X_Unseen_test['annual_inc'] = X_Unseen_test['annual_inc'].fillna(X_Unseen_test['annual_inc'].median())\n",
        "X_Unseen_test['revol_bal'] = X_Unseen_test['revol_bal'].fillna(X_Unseen_test['revol_bal'].median())\n",
        "X_Unseen_test['revol_util'] = X_Unseen_test['revol_util'].fillna(X_Unseen_test['revol_util'].median())\n",
        "X_Unseen_test['total_rec_int'] = X_Unseen_test['total_rec_int'].fillna(X_Unseen_test['total_rec_int'].median())\n",
        "X_Unseen_test['total_rec_late_fee'] = X_Unseen_test['total_rec_late_fee'].fillna(X_Unseen_test['total_rec_late_fee'].median())\n",
        "X_Unseen_test['recoveries'] = X_Unseen_test['recoveries'].fillna(X_Unseen_test['recoveries'].median())\n",
        "X_Unseen_test['collection_recovery_fee'] = X_Unseen_test['collection_recovery_fee'].fillna(X_Unseen_test['collection_recovery_fee'].median())\n",
        "X_Unseen_test['tot_coll_amt'] = X_Unseen_test['tot_coll_amt'].fillna(X_Unseen_test['tot_coll_amt'].median())\n",
        "X_Unseen_test['tot_cur_bal'] = X_Unseen_test['tot_cur_bal'].fillna(X_Unseen_test['tot_cur_bal'].median())\n",
        "X_Unseen_test['total_rev_hi_lim'] = X_Unseen_test['total_rev_hi_lim'].fillna(X_Unseen_test['total_rev_hi_lim'].median())\n",
        "X_Unseen_test['dti'] = X_Unseen_test['dti'].fillna(X_Unseen_test['dti'].median())\n",
        "X_Unseen_test['mths_since_last_major_derog'] = X_Unseen_test['mths_since_last_major_derog'].fillna(X_Unseen_test['mths_since_last_major_derog'].median())\n",
        "X_Unseen_test['mths_since_last_delinq'] = X_Unseen_test['mths_since_last_delinq'].fillna(X_Unseen_test['mths_since_last_delinq'].median())\n",
        "X_Unseen_test['mths_since_last_record'] = X_Unseen_test['mths_since_last_record'].fillna(X_Unseen_test['mths_since_last_record'].median())\n",
        "X_Unseen_test['open_acc'] = X_Unseen_test['open_acc'].fillna(X_Unseen_test['open_acc'].median())\n",
        "X_Unseen_test['total_acc'] = X_Unseen_test['total_acc'].fillna(X_Unseen_test['total_acc'].median())\n",
        "X_Unseen_test['delinq_2yrs'] = X_Unseen_test['delinq_2yrs'].fillna(X_Unseen_test['delinq_2yrs'].median())\n",
        "X_Unseen_test['inq_last_6mths'] = X_Unseen_test['inq_last_6mths'].fillna(X_Unseen_test['inq_last_6mths'].median())\n",
        "X_Unseen_test['pub_rec'] = X_Unseen_test['pub_rec'].fillna(X_Unseen_test['pub_rec'].median())\n",
        "X_Unseen_test['acc_now_delinq'] = X_Unseen_test['acc_now_delinq'].fillna(X_Unseen_test['acc_now_delinq'].median())\n",
        "X_Unseen_test['encoded_emp_title'] = X_Unseen_test['encoded_emp_title'].fillna(X_Unseen_test['encoded_emp_title'].median())\n",
        "X_Unseen_test['encoded_title'] = X_Unseen_test['encoded_title'].fillna(X_Unseen_test['encoded_title'].median())\n",
        "X_Unseen_test['encoded_zip_code'] = X_Unseen_test['encoded_zip_code'].fillna(X_Unseen_test['encoded_zip_code'].median())\n",
        "X_Unseen_test['encoded_batch_enrolled'] = X_Unseen_test['encoded_batch_enrolled'].fillna(X_Unseen_test['encoded_batch_enrolled'].median())"
      ],
      "id": "sLjvpJoPuMyJ",
      "execution_count": 76,
      "outputs": []
    },
    {
      "cell_type": "markdown",
      "metadata": {
        "id": "e9b13c19"
      },
      "source": [
        "Having 2 lists , segregating all categorical & numerical columns"
      ],
      "id": "e9b13c19"
    },
    {
      "cell_type": "code",
      "metadata": {
        "id": "4550557b"
      },
      "source": [
        "num_cols_list = ['loan_amnt', 'collections_12_mths_ex_med', 'funded_amnt', 'funded_amnt_inv', 'int_rate', \n",
        "                'annual_inc', 'revol_bal', 'revol_util', 'total_rec_int', 'total_rec_late_fee', 'recoveries', \n",
        "                'collection_recovery_fee', 'tot_coll_amt', 'tot_cur_bal', 'total_rev_hi_lim', 'dti', \n",
        "                'mths_since_last_major_derog', 'mths_since_last_delinq', 'mths_since_last_record', \n",
        "                 'open_acc', 'total_acc', 'delinq_2yrs', 'inq_last_6mths', 'pub_rec', 'acc_now_delinq', \n",
        "                'encoded_emp_title', 'encoded_title', 'encoded_zip_code', 'encoded_batch_enrolled']\n",
        "\n",
        "cat_cols_list = ['grade', 'term', 'sub_grade', 'emp_length', 'home_ownership', 'verification_status', \n",
        "                'pymnt_plan', 'purpose', 'addr_state', 'initial_list_status', 'application_type', \n",
        "                 'verification_status_joint', 'last_week_pay']"
      ],
      "id": "4550557b",
      "execution_count": 77,
      "outputs": []
    },
    {
      "cell_type": "markdown",
      "metadata": {
        "id": "5e5e66ee"
      },
      "source": [
        "Dropping desc, member_id column (member_id is just id for reference)"
      ],
      "id": "5e5e66ee"
    },
    {
      "cell_type": "code",
      "metadata": {
        "id": "3820433b"
      },
      "source": [
        "X_train_dropped = X_train.drop(columns = ['desc', 'member_id'])\n",
        "X_test_dropped = X_test.drop(columns = ['desc', 'member_id'])\n",
        "X_Unseen_test_dropped = X_Unseen_test.drop(columns = ['desc', 'member_id'])"
      ],
      "id": "3820433b",
      "execution_count": 78,
      "outputs": []
    },
    {
      "cell_type": "code",
      "metadata": {
        "colab": {
          "base_uri": "https://localhost:8080/"
        },
        "id": "a70ac16d",
        "outputId": "00abc699-b491-4522-937e-df1aae31535d"
      },
      "source": [
        "print(X_train_dropped.shape)\n",
        "print(X_test_dropped.shape)\n",
        "print(X_Unseen_test_dropped.shape)"
      ],
      "id": "a70ac16d",
      "execution_count": 79,
      "outputs": [
        {
          "output_type": "stream",
          "text": [
            "(372699, 42)\n",
            "(159729, 42)\n",
            "(354951, 42)\n"
          ],
          "name": "stdout"
        }
      ]
    },
    {
      "cell_type": "code",
      "metadata": {
        "id": "AQtD0PieFnru"
      },
      "source": [
        "temp_df = pd.concat([X_train[['encoded_batch_enrolled', 'encoded_title', 'encoded_zip_code', 'encoded_emp_title', \n",
        "                             'total_rec_int', 'dti', 'loan_amnt', 'funded_amnt', 'funded_amnt_inv']], \n",
        "                    df['loan_status']], axis=1)"
      ],
      "id": "AQtD0PieFnru",
      "execution_count": 80,
      "outputs": []
    },
    {
      "cell_type": "markdown",
      "metadata": {
        "id": "LtiBpLYweUli"
      },
      "source": [
        "From below 4 features analysis for which we used frequency based methods, we can notice from the box plot overlaps that the best feature contributing in differentiating maximally in terms of loan status is 'encoded_batch_enrolled' Though this feature 'encoded_batch_enrolled' is also not able to distinguish completely all alone, but still its better than other 3 features below."
      ],
      "id": "LtiBpLYweUli"
    },
    {
      "cell_type": "code",
      "metadata": {
        "colab": {
          "base_uri": "https://localhost:8080/",
          "height": 786
        },
        "id": "33d272ff",
        "outputId": "565a302a-60bb-4910-c336-78a29e4b207c"
      },
      "source": [
        "sns.FacetGrid(temp_df, hue='loan_status', size=5).map(sns.distplot, 'encoded_batch_enrolled').add_legend()\n",
        "plt.title('Density Plot')\n",
        "plt.ylabel('PDF')\n",
        "plt.xlabel('encoded_batch_enrolled')\n",
        "plt.show()\n",
        "\n",
        "sns.boxplot(x='loan_status',y='encoded_batch_enrolled', data=temp_df)\n",
        "plt.title('Box Plot encoded_batch_enrolled vs loan_status')\n",
        "plt.show()"
      ],
      "id": "33d272ff",
      "execution_count": 34,
      "outputs": [
        {
          "output_type": "stream",
          "text": [
            "/usr/local/lib/python3.7/dist-packages/seaborn/axisgrid.py:316: UserWarning: The `size` parameter has been renamed to `height`; please update your code.\n",
            "  warnings.warn(msg, UserWarning)\n",
            "/usr/local/lib/python3.7/dist-packages/seaborn/distributions.py:2557: FutureWarning: `distplot` is a deprecated function and will be removed in a future version. Please adapt your code to use either `displot` (a figure-level function with similar flexibility) or `histplot` (an axes-level function for histograms).\n",
            "  warnings.warn(msg, FutureWarning)\n",
            "/usr/local/lib/python3.7/dist-packages/seaborn/distributions.py:2557: FutureWarning: `distplot` is a deprecated function and will be removed in a future version. Please adapt your code to use either `displot` (a figure-level function with similar flexibility) or `histplot` (an axes-level function for histograms).\n",
            "  warnings.warn(msg, FutureWarning)\n"
          ],
          "name": "stderr"
        },
        {
          "output_type": "display_data",
          "data": {
            "image/png": "[encoded data removed]",
            "text/plain": [
              "<Figure size 425.125x360 with 1 Axes>"
            ]
          },
          "metadata": {
            "tags": [],
            "needs_background": "light"
          }
        },
        {
          "output_type": "display_data",
          "data": {
            "image/png": "[encoded data removed]",
            "text/plain": [
              "<Figure size 432x288 with 1 Axes>"
            ]
          },
          "metadata": {
            "tags": [],
            "needs_background": "light"
          }
        }
      ]
    },
    {
      "cell_type": "code",
      "metadata": {
        "colab": {
          "base_uri": "https://localhost:8080/",
          "height": 786
        },
        "id": "43fe2a44",
        "outputId": "eeae810e-008e-4def-fb88-73c9bcf2a81f"
      },
      "source": [
        "sns.FacetGrid(temp_df, hue='loan_status', size=5).map(sns.distplot, 'encoded_title').add_legend()\n",
        "plt.title('Density Plot')\n",
        "plt.ylabel('PDF')\n",
        "plt.xlabel('encoded_title')\n",
        "plt.show()\n",
        "\n",
        "sns.boxplot(x='loan_status',y='encoded_title', data=temp_df)\n",
        "plt.title('Box Plot encoded_title vs loan_status')\n",
        "plt.show()"
      ],
      "id": "43fe2a44",
      "execution_count": 35,
      "outputs": [
        {
          "output_type": "stream",
          "text": [
            "/usr/local/lib/python3.7/dist-packages/seaborn/axisgrid.py:316: UserWarning: The `size` parameter has been renamed to `height`; please update your code.\n",
            "  warnings.warn(msg, UserWarning)\n",
            "/usr/local/lib/python3.7/dist-packages/seaborn/distributions.py:2557: FutureWarning: `distplot` is a deprecated function and will be removed in a future version. Please adapt your code to use either `displot` (a figure-level function with similar flexibility) or `histplot` (an axes-level function for histograms).\n",
            "  warnings.warn(msg, FutureWarning)\n",
            "/usr/local/lib/python3.7/dist-packages/seaborn/distributions.py:2557: FutureWarning: `distplot` is a deprecated function and will be removed in a future version. Please adapt your code to use either `displot` (a figure-level function with similar flexibility) or `histplot` (an axes-level function for histograms).\n",
            "  warnings.warn(msg, FutureWarning)\n"
          ],
          "name": "stderr"
        },
        {
          "output_type": "display_data",
          "data": {
            "image/png": "[encoded data removed]",
            "text/plain": [
              "<Figure size 425.125x360 with 1 Axes>"
            ]
          },
          "metadata": {
            "tags": [],
            "needs_background": "light"
          }
        },
        {
          "output_type": "display_data",
          "data": {
            "image/png": "[encoded data removed]",
            "text/plain": [
              "<Figure size 432x288 with 1 Axes>"
            ]
          },
          "metadata": {
            "tags": [],
            "needs_background": "light"
          }
        }
      ]
    },
    {
      "cell_type": "code",
      "metadata": {
        "colab": {
          "base_uri": "https://localhost:8080/",
          "height": 786
        },
        "id": "4dd62970",
        "outputId": "9bd7e184-b5b2-48a6-b10a-9f0543bd4ea7"
      },
      "source": [
        "sns.FacetGrid(temp_df, hue='loan_status', size=5).map(sns.distplot, 'encoded_zip_code').add_legend()\n",
        "plt.title('Density Plot')\n",
        "plt.ylabel('PDF')\n",
        "plt.xlabel('encoded_zip_code')\n",
        "plt.show()\n",
        "\n",
        "sns.boxplot(x='loan_status',y='encoded_zip_code', data=temp_df)\n",
        "plt.title('Box Plot encoded_zip_code vs loan_status')\n",
        "plt.show()\n",
        "\n"
      ],
      "id": "4dd62970",
      "execution_count": 36,
      "outputs": [
        {
          "output_type": "stream",
          "text": [
            "/usr/local/lib/python3.7/dist-packages/seaborn/axisgrid.py:316: UserWarning: The `size` parameter has been renamed to `height`; please update your code.\n",
            "  warnings.warn(msg, UserWarning)\n",
            "/usr/local/lib/python3.7/dist-packages/seaborn/distributions.py:2557: FutureWarning: `distplot` is a deprecated function and will be removed in a future version. Please adapt your code to use either `displot` (a figure-level function with similar flexibility) or `histplot` (an axes-level function for histograms).\n",
            "  warnings.warn(msg, FutureWarning)\n",
            "/usr/local/lib/python3.7/dist-packages/seaborn/distributions.py:2557: FutureWarning: `distplot` is a deprecated function and will be removed in a future version. Please adapt your code to use either `displot` (a figure-level function with similar flexibility) or `histplot` (an axes-level function for histograms).\n",
            "  warnings.warn(msg, FutureWarning)\n"
          ],
          "name": "stderr"
        },
        {
          "output_type": "display_data",
          "data": {
            "image/png": "[encoded data removed]",
            "text/plain": [
              "<Figure size 425.125x360 with 1 Axes>"
            ]
          },
          "metadata": {
            "tags": [],
            "needs_background": "light"
          }
        },
        {
          "output_type": "display_data",
          "data": {
            "image/png": "[encoded data removed]",
            "text/plain": [
              "<Figure size 432x288 with 1 Axes>"
            ]
          },
          "metadata": {
            "tags": [],
            "needs_background": "light"
          }
        }
      ]
    },
    {
      "cell_type": "code",
      "metadata": {
        "colab": {
          "base_uri": "https://localhost:8080/",
          "height": 786
        },
        "id": "ec4d7352",
        "outputId": "64f5e898-a971-45e2-d03c-90f4684a266a"
      },
      "source": [
        "sns.FacetGrid(temp_df, hue='loan_status', size=5).map(sns.distplot, 'encoded_emp_title').add_legend()\n",
        "plt.title('Density Plot')\n",
        "plt.ylabel('PDF')\n",
        "plt.xlabel('encoded_emp_title')\n",
        "plt.show()\n",
        "\n",
        "sns.boxplot(x='loan_status',y='encoded_emp_title', data=temp_df)\n",
        "plt.title('Box Plot encoded_emp_title vs loan_status')\n",
        "plt.show()"
      ],
      "id": "ec4d7352",
      "execution_count": 37,
      "outputs": [
        {
          "output_type": "stream",
          "text": [
            "/usr/local/lib/python3.7/dist-packages/seaborn/axisgrid.py:316: UserWarning: The `size` parameter has been renamed to `height`; please update your code.\n",
            "  warnings.warn(msg, UserWarning)\n",
            "/usr/local/lib/python3.7/dist-packages/seaborn/distributions.py:2557: FutureWarning: `distplot` is a deprecated function and will be removed in a future version. Please adapt your code to use either `displot` (a figure-level function with similar flexibility) or `histplot` (an axes-level function for histograms).\n",
            "  warnings.warn(msg, FutureWarning)\n",
            "/usr/local/lib/python3.7/dist-packages/seaborn/distributions.py:2557: FutureWarning: `distplot` is a deprecated function and will be removed in a future version. Please adapt your code to use either `displot` (a figure-level function with similar flexibility) or `histplot` (an axes-level function for histograms).\n",
            "  warnings.warn(msg, FutureWarning)\n"
          ],
          "name": "stderr"
        },
        {
          "output_type": "display_data",
          "data": {
            "image/png": "[encoded data removed]",
            "text/plain": [
              "<Figure size 425.125x360 with 1 Axes>"
            ]
          },
          "metadata": {
            "tags": [],
            "needs_background": "light"
          }
        },
        {
          "output_type": "display_data",
          "data": {
            "image/png": "[encoded data removed]",
            "text/plain": [
              "<Figure size 432x288 with 1 Axes>"
            ]
          },
          "metadata": {
            "tags": [],
            "needs_background": "light"
          }
        }
      ]
    },
    {
      "cell_type": "markdown",
      "metadata": {
        "id": "5eb00e86"
      },
      "source": [
        "Similaryly amongst these other numerical features 'loan_amnt', 'collections_12_mths_ex_med', 'funded_amnt', 'funded_amnt_inv', 'int_rate', 'annual_inc', 'revol_bal', 'revol_util', 'total_rec_int', 'total_rec_late_fee', 'recoveries', 'collection_recovery_fee', 'tot_coll_amt', 'tot_cur_bal', 'total_rev_hi_lim', 'dti','mths_since_last_major_derog', 'mths_since_last_delinq', 'mths_since_last_record', 'open_acc', 'total_acc', 'delinq_2yrs', 'inq_last_6mths', 'pub_rec', 'acc_now_delinq'.\n",
        "\n",
        "We see that total_rec_int, dti, loan_amnt, funded_amnt, funded_amnt_inv is able to distinguish the least."
      ],
      "id": "5eb00e86"
    },
    {
      "cell_type": "code",
      "metadata": {
        "colab": {
          "base_uri": "https://localhost:8080/",
          "height": 786
        },
        "id": "02cc5697",
        "outputId": "2fd7bfdf-2273-405f-c834-59c63db67fea"
      },
      "source": [
        "sns.FacetGrid(temp_df, hue='loan_status', size=5).map(sns.distplot, 'total_rec_int').add_legend()\n",
        "plt.title('Density Plot')\n",
        "plt.ylabel('PDF')\n",
        "plt.xlabel('total_rec_int')\n",
        "plt.show()\n",
        "\n",
        "sns.boxplot(x='loan_status',y='total_rec_int', data=temp_df)\n",
        "plt.title('Box Plot total_rec_int vs loan_status')\n",
        "plt.show()"
      ],
      "id": "02cc5697",
      "execution_count": 38,
      "outputs": [
        {
          "output_type": "stream",
          "text": [
            "/usr/local/lib/python3.7/dist-packages/seaborn/axisgrid.py:316: UserWarning: The `size` parameter has been renamed to `height`; please update your code.\n",
            "  warnings.warn(msg, UserWarning)\n",
            "/usr/local/lib/python3.7/dist-packages/seaborn/distributions.py:2557: FutureWarning: `distplot` is a deprecated function and will be removed in a future version. Please adapt your code to use either `displot` (a figure-level function with similar flexibility) or `histplot` (an axes-level function for histograms).\n",
            "  warnings.warn(msg, FutureWarning)\n",
            "/usr/local/lib/python3.7/dist-packages/seaborn/distributions.py:2557: FutureWarning: `distplot` is a deprecated function and will be removed in a future version. Please adapt your code to use either `displot` (a figure-level function with similar flexibility) or `histplot` (an axes-level function for histograms).\n",
            "  warnings.warn(msg, FutureWarning)\n"
          ],
          "name": "stderr"
        },
        {
          "output_type": "display_data",
          "data": {
            "image/png": "[encoded data removed]",
            "text/plain": [
              "<Figure size 425.125x360 with 1 Axes>"
            ]
          },
          "metadata": {
            "tags": [],
            "needs_background": "light"
          }
        },
        {
          "output_type": "display_data",
          "data": {
            "image/png": "[encoded data removed]",
            "text/plain": [
              "<Figure size 432x288 with 1 Axes>"
            ]
          },
          "metadata": {
            "tags": [],
            "needs_background": "light"
          }
        }
      ]
    },
    {
      "cell_type": "code",
      "metadata": {
        "colab": {
          "base_uri": "https://localhost:8080/",
          "height": 786
        },
        "id": "4f7ec5eb",
        "outputId": "20811094-3046-4f35-c7da-ca6e9ce59ed8"
      },
      "source": [
        "sns.FacetGrid(temp_df, hue='loan_status', size=5).map(sns.distplot, 'dti').add_legend()\n",
        "plt.title('Density Plot')\n",
        "plt.ylabel('PDF')\n",
        "plt.xlabel('dti')\n",
        "plt.show()\n",
        "\n",
        "sns.boxplot(x='loan_status',y='dti', data=temp_df)\n",
        "plt.title('Box Plot dti vs loan_status')\n",
        "plt.show()"
      ],
      "id": "4f7ec5eb",
      "execution_count": 39,
      "outputs": [
        {
          "output_type": "stream",
          "text": [
            "/usr/local/lib/python3.7/dist-packages/seaborn/axisgrid.py:316: UserWarning: The `size` parameter has been renamed to `height`; please update your code.\n",
            "  warnings.warn(msg, UserWarning)\n",
            "/usr/local/lib/python3.7/dist-packages/seaborn/distributions.py:2557: FutureWarning: `distplot` is a deprecated function and will be removed in a future version. Please adapt your code to use either `displot` (a figure-level function with similar flexibility) or `histplot` (an axes-level function for histograms).\n",
            "  warnings.warn(msg, FutureWarning)\n",
            "/usr/local/lib/python3.7/dist-packages/seaborn/distributions.py:2557: FutureWarning: `distplot` is a deprecated function and will be removed in a future version. Please adapt your code to use either `displot` (a figure-level function with similar flexibility) or `histplot` (an axes-level function for histograms).\n",
            "  warnings.warn(msg, FutureWarning)\n"
          ],
          "name": "stderr"
        },
        {
          "output_type": "display_data",
          "data": {
            "image/png": "[encoded data removed]",
            "text/plain": [
              "<Figure size 425.125x360 with 1 Axes>"
            ]
          },
          "metadata": {
            "tags": [],
            "needs_background": "light"
          }
        },
        {
          "output_type": "display_data",
          "data": {
            "image/png": "[encoded data removed]",
            "text/plain": [
              "<Figure size 432x288 with 1 Axes>"
            ]
          },
          "metadata": {
            "tags": [],
            "needs_background": "light"
          }
        }
      ]
    },
    {
      "cell_type": "code",
      "metadata": {
        "colab": {
          "base_uri": "https://localhost:8080/",
          "height": 786
        },
        "id": "83ef0f16",
        "outputId": "fcce5280-92fc-4b81-de01-34d829092f20"
      },
      "source": [
        "sns.FacetGrid(temp_df, hue='loan_status', size=5).map(sns.distplot, 'loan_amnt').add_legend()\n",
        "plt.title('Density Plot')\n",
        "plt.ylabel('PDF')\n",
        "plt.xlabel('loan_amnt')\n",
        "plt.show()\n",
        "\n",
        "sns.boxplot(x='loan_status',y='loan_amnt', data=temp_df)\n",
        "plt.title('Box Plot loan_amnt vs loan_status')\n",
        "plt.show()"
      ],
      "id": "83ef0f16",
      "execution_count": 40,
      "outputs": [
        {
          "output_type": "stream",
          "text": [
            "/usr/local/lib/python3.7/dist-packages/seaborn/axisgrid.py:316: UserWarning: The `size` parameter has been renamed to `height`; please update your code.\n",
            "  warnings.warn(msg, UserWarning)\n",
            "/usr/local/lib/python3.7/dist-packages/seaborn/distributions.py:2557: FutureWarning: `distplot` is a deprecated function and will be removed in a future version. Please adapt your code to use either `displot` (a figure-level function with similar flexibility) or `histplot` (an axes-level function for histograms).\n",
            "  warnings.warn(msg, FutureWarning)\n",
            "/usr/local/lib/python3.7/dist-packages/seaborn/distributions.py:2557: FutureWarning: `distplot` is a deprecated function and will be removed in a future version. Please adapt your code to use either `displot` (a figure-level function with similar flexibility) or `histplot` (an axes-level function for histograms).\n",
            "  warnings.warn(msg, FutureWarning)\n"
          ],
          "name": "stderr"
        },
        {
          "output_type": "display_data",
          "data": {
            "image/png": "[encoded data removed]",
            "text/plain": [
              "<Figure size 425.125x360 with 1 Axes>"
            ]
          },
          "metadata": {
            "tags": [],
            "needs_background": "light"
          }
        },
        {
          "output_type": "display_data",
          "data": {
            "image/png": "[encoded data removed]",
            "text/plain": [
              "<Figure size 432x288 with 1 Axes>"
            ]
          },
          "metadata": {
            "tags": [],
            "needs_background": "light"
          }
        }
      ]
    },
    {
      "cell_type": "code",
      "metadata": {
        "colab": {
          "base_uri": "https://localhost:8080/",
          "height": 786
        },
        "id": "1617af4b",
        "outputId": "b710a90d-ba41-45d8-ca47-621904f0ed48"
      },
      "source": [
        "sns.FacetGrid(temp_df, hue='loan_status', size=5).map(sns.distplot, 'funded_amnt').add_legend()\n",
        "plt.title('Density Plot')\n",
        "plt.ylabel('PDF')\n",
        "plt.xlabel('funded_amnt')\n",
        "plt.show()\n",
        "\n",
        "sns.boxplot(x='loan_status',y='funded_amnt', data=temp_df)\n",
        "plt.title('Box Plot funded_amnt vs loan_status')\n",
        "plt.show()"
      ],
      "id": "1617af4b",
      "execution_count": 41,
      "outputs": [
        {
          "output_type": "stream",
          "text": [
            "/usr/local/lib/python3.7/dist-packages/seaborn/axisgrid.py:316: UserWarning: The `size` parameter has been renamed to `height`; please update your code.\n",
            "  warnings.warn(msg, UserWarning)\n",
            "/usr/local/lib/python3.7/dist-packages/seaborn/distributions.py:2557: FutureWarning: `distplot` is a deprecated function and will be removed in a future version. Please adapt your code to use either `displot` (a figure-level function with similar flexibility) or `histplot` (an axes-level function for histograms).\n",
            "  warnings.warn(msg, FutureWarning)\n",
            "/usr/local/lib/python3.7/dist-packages/seaborn/distributions.py:2557: FutureWarning: `distplot` is a deprecated function and will be removed in a future version. Please adapt your code to use either `displot` (a figure-level function with similar flexibility) or `histplot` (an axes-level function for histograms).\n",
            "  warnings.warn(msg, FutureWarning)\n"
          ],
          "name": "stderr"
        },
        {
          "output_type": "display_data",
          "data": {
            "image/png": "[encoded data removed]",
            "text/plain": [
              "<Figure size 425.125x360 with 1 Axes>"
            ]
          },
          "metadata": {
            "tags": [],
            "needs_background": "light"
          }
        },
        {
          "output_type": "display_data",
          "data": {
            "image/png": "[encoded data removed]",
            "text/plain": [
              "<Figure size 432x288 with 1 Axes>"
            ]
          },
          "metadata": {
            "tags": [],
            "needs_background": "light"
          }
        }
      ]
    },
    {
      "cell_type": "code",
      "metadata": {
        "colab": {
          "base_uri": "https://localhost:8080/",
          "height": 786
        },
        "id": "0712cadb",
        "outputId": "53254737-68e8-4bff-c5db-57d54346c22d"
      },
      "source": [
        "sns.FacetGrid(temp_df, hue='loan_status', size=5).map(sns.distplot, 'funded_amnt_inv').add_legend()\n",
        "plt.title('Density Plot')\n",
        "plt.ylabel('PDF')\n",
        "plt.xlabel('funded_amnt_inv')\n",
        "plt.show()\n",
        "\n",
        "sns.boxplot(x='loan_status',y='funded_amnt_inv', data=temp_df)\n",
        "plt.title('Box Plot funded_amnt_inv vs loan_status')\n",
        "plt.show()"
      ],
      "id": "0712cadb",
      "execution_count": 42,
      "outputs": [
        {
          "output_type": "stream",
          "text": [
            "/usr/local/lib/python3.7/dist-packages/seaborn/axisgrid.py:316: UserWarning: The `size` parameter has been renamed to `height`; please update your code.\n",
            "  warnings.warn(msg, UserWarning)\n",
            "/usr/local/lib/python3.7/dist-packages/seaborn/distributions.py:2557: FutureWarning: `distplot` is a deprecated function and will be removed in a future version. Please adapt your code to use either `displot` (a figure-level function with similar flexibility) or `histplot` (an axes-level function for histograms).\n",
            "  warnings.warn(msg, FutureWarning)\n",
            "/usr/local/lib/python3.7/dist-packages/seaborn/distributions.py:2557: FutureWarning: `distplot` is a deprecated function and will be removed in a future version. Please adapt your code to use either `displot` (a figure-level function with similar flexibility) or `histplot` (an axes-level function for histograms).\n",
            "  warnings.warn(msg, FutureWarning)\n"
          ],
          "name": "stderr"
        },
        {
          "output_type": "display_data",
          "data": {
            "image/png": "[encoded data removed]",
            "text/plain": [
              "<Figure size 425.125x360 with 1 Axes>"
            ]
          },
          "metadata": {
            "tags": [],
            "needs_background": "light"
          }
        },
        {
          "output_type": "display_data",
          "data": {
            "image/png": "[encoded data removed]",
            "text/plain": [
              "<Figure size 432x288 with 1 Axes>"
            ]
          },
          "metadata": {
            "tags": [],
            "needs_background": "light"
          }
        }
      ]
    },
    {
      "cell_type": "markdown",
      "metadata": {
        "id": "5f78eeb9"
      },
      "source": [
        "Now splitting the columns which have less than 100 categories with one hot encoding technique.\n",
        "Now not going for frequency here this is more stable technique, and where we have huge no of categories \n",
        "there we can have frequency, response coding(here dint use as was taking huge amount of time \n",
        "to run due to column having 14k categories) kind of estimation."
      ],
      "id": "5f78eeb9"
    },
    {
      "cell_type": "markdown",
      "metadata": {
        "id": "704e0b22"
      },
      "source": [
        "IMP: Here when we were trying to split the categorical features further what issue we were getting was, \n",
        "there were 255 & 261 categories in test_indessa & train_indessa, also further we see after splitting train_indessa we see different no of categories which was causing issue while testing the\n",
        "model and predicting for it. Hence, just to have same no iof categorical columns split what we tried was to concat \n",
        "both train test data , and then split. So now we have common no of categorical columns and then separated the data"
      ],
      "id": "704e0b22"
    },
    {
      "cell_type": "code",
      "metadata": {
        "id": "c3605fcd"
      },
      "source": [
        "# categorical cols to one hot\n",
        "X_train_dropped['train'] = 1\n",
        "X_test_dropped['train'] = 0\n",
        "X_Unseen_test_dropped['train'] = -1\n",
        "concat_train_test = pd.concat([X_train_dropped, X_test_dropped, X_Unseen_test_dropped])\n",
        "df_dummy = pd.get_dummies(concat_train_test, columns = cat_cols_list)"
      ],
      "id": "c3605fcd",
      "execution_count": 81,
      "outputs": []
    },
    {
      "cell_type": "code",
      "metadata": {
        "colab": {
          "base_uri": "https://localhost:8080/"
        },
        "id": "4820dcf6",
        "outputId": "068439f1-03fc-4fd9-9106-228e84af6a97"
      },
      "source": [
        "df_dummy.shape"
      ],
      "id": "4820dcf6",
      "execution_count": 82,
      "outputs": [
        {
          "output_type": "execute_result",
          "data": {
            "text/plain": [
              "(887379, 266)"
            ]
          },
          "metadata": {
            "tags": []
          },
          "execution_count": 82
        }
      ]
    },
    {
      "cell_type": "markdown",
      "metadata": {
        "id": "8f2efa5e"
      },
      "source": [
        "Here just dropping the extra identifier column from data, as now we have categorical splitting done"
      ],
      "id": "8f2efa5e"
    },
    {
      "cell_type": "code",
      "metadata": {
        "colab": {
          "base_uri": "https://localhost:8080/"
        },
        "id": "b355d6a2",
        "outputId": "d782b78d-71c6-4272-8e76-a46897651a1d"
      },
      "source": [
        "X_train_oneHot = df_dummy[df_dummy['train'] == 1]\n",
        "X_test_oneHot = df_dummy[df_dummy['train'] == 0]\n",
        "X_Unseen_test_oneHot = df_dummy[df_dummy['train'] == -1]\n",
        "X_train_oneHot.drop(['train'], axis=1, inplace=True)\n",
        "X_test_oneHot.drop(['train'], axis=1, inplace=True)\n",
        "X_Unseen_test_oneHot.drop(['train'], axis=1, inplace=True)"
      ],
      "id": "b355d6a2",
      "execution_count": 83,
      "outputs": [
        {
          "output_type": "stream",
          "text": [
            "/usr/local/lib/python3.7/dist-packages/pandas/core/frame.py:4174: SettingWithCopyWarning: \n",
            "A value is trying to be set on a copy of a slice from a DataFrame\n",
            "\n",
            "See the caveats in the documentation: https://pandas.pydata.org/pandas-docs/stable/user_guide/indexing.html#returning-a-view-versus-a-copy\n",
            "  errors=errors,\n"
          ],
          "name": "stderr"
        }
      ]
    },
    {
      "cell_type": "code",
      "metadata": {
        "colab": {
          "base_uri": "https://localhost:8080/"
        },
        "id": "23bf49c4",
        "outputId": "65c7ff35-9069-45f1-8455-ee12c18deeb5"
      },
      "source": [
        "print(X_train_oneHot.shape)\n",
        "print(X_test_oneHot.shape)\n",
        "print(X_Unseen_test_oneHot.shape)"
      ],
      "id": "23bf49c4",
      "execution_count": 84,
      "outputs": [
        {
          "output_type": "stream",
          "text": [
            "(372699, 265)\n",
            "(159729, 265)\n",
            "(354951, 265)\n"
          ],
          "name": "stdout"
        }
      ]
    },
    {
      "cell_type": "markdown",
      "metadata": {
        "id": "54212809"
      },
      "source": [
        "Scaling all the columns to brind them into 1 scale"
      ],
      "id": "54212809"
    },
    {
      "cell_type": "code",
      "metadata": {
        "id": "b93c10a8"
      },
      "source": [
        "scaler = StandardScaler()\n",
        "X_train_scaled = scaler.fit_transform(X_train_oneHot)\n",
        "X_test_scaled = scaler.fit_transform(X_test_oneHot)\n",
        "X_Unseen_test_scaled = scaler.fit_transform(X_Unseen_test_oneHot)"
      ],
      "id": "b93c10a8",
      "execution_count": 85,
      "outputs": []
    },
    {
      "cell_type": "code",
      "metadata": {
        "colab": {
          "base_uri": "https://localhost:8080/"
        },
        "id": "4f565dee",
        "outputId": "db556311-b21b-4538-fab0-7ee6243f367a"
      },
      "source": [
        "X_train_scaled.shape\n",
        "X_test_scaled.shape\n",
        "X_Unseen_test_scaled.shape\n"
      ],
      "id": "4f565dee",
      "execution_count": 86,
      "outputs": [
        {
          "output_type": "execute_result",
          "data": {
            "text/plain": [
              "(354951, 265)"
            ]
          },
          "metadata": {
            "tags": []
          },
          "execution_count": 86
        }
      ]
    },
    {
      "cell_type": "markdown",
      "metadata": {
        "id": "c7c01321"
      },
      "source": [
        "batch predict function to predict for test results\n"
      ],
      "id": "c7c01321"
    },
    {
      "cell_type": "code",
      "metadata": {
        "id": "b2dc538d"
      },
      "source": [
        "def batch_predict(clf, data):\n",
        "    # roc_auc_score(y_true, y_score) the 2nd parameter should be probability estimates of the positive class\n",
        "    # not the predicted outputs\n",
        "\n",
        "    y_data_pred = []\n",
        "    tr_loop = data.shape[0] - data.shape[0]%1000\n",
        "    \n",
        "    for i in range(0, tr_loop, 1000):\n",
        "        y_data_pred.extend(clf.predict_proba(data[i:i+1000])[:,1])\n",
        "    # we will be predicting for the last data points\n",
        "    if data.shape[0]%1000 !=0:\n",
        "        y_data_pred.extend(clf.predict_proba(data[tr_loop:])[:,1])\n",
        "    \n",
        "    return y_data_pred\n"
      ],
      "id": "b2dc538d",
      "execution_count": 87,
      "outputs": []
    },
    {
      "cell_type": "markdown",
      "metadata": {
        "id": "1c802733"
      },
      "source": [
        "best parameters value hold"
      ],
      "id": "1c802733"
    },
    {
      "cell_type": "code",
      "metadata": {
        "id": "6b434ae7"
      },
      "source": [
        "\n",
        "#here we are choosing the best_k\n",
        "depth_best = 5\n",
        "est_best = 500\n",
        "lea_best = 0.05\n",
        "best_gamma = 10\n"
      ],
      "id": "6b434ae7",
      "execution_count": 66,
      "outputs": []
    },
    {
      "cell_type": "markdown",
      "metadata": {
        "id": "Q_gY_4yzeDzx"
      },
      "source": [
        "Suppose you have an unbalanced data with 80 percent 1 and rest 20 percent 0. \n",
        "Usually when we fit a model like logistic regression or random forest on such a dataset, \n",
        "there are high chances that the model is biased. These models might predict 1 for every \n",
        "data point and will still be correct 80% of the times. We have class_weights parameters in Logistic & Random Forest classifier but here we are going with much powerful boosting technique.\n",
        "\n",
        "XGBoost implementation of GBDT is a sequential process and thus every time it makes an incorrect prediction, \n",
        "it focuses more on that incorrectly predicted data point. So, if the first iteration gave you \n",
        "an accuracy of 80 %, the second iteration would focus on the remaining 20%."
      ],
      "id": "Q_gY_4yzeDzx"
    },
    {
      "cell_type": "markdown",
      "metadata": {
        "id": "DHPdjWHVI1wW"
      },
      "source": [
        "Applying XGBoost"
      ],
      "id": "DHPdjWHVI1wW"
    },
    {
      "cell_type": "code",
      "metadata": {
        "id": "f501bf61"
      },
      "source": [
        "from sklearn.metrics import roc_curve, auc\n",
        "\n",
        "dec = XGBClassifier(max_depth=depth_best, n_estimators=est_best, gamma=best_gamma, learning_rate= lea_best)\n",
        "dec.fit(X_train_scaled, y_train)\n",
        "\n",
        "y_train_pred = batch_predict(dec, X_train_scaled)    \n",
        "y_test_pred = batch_predict(dec, X_test_scaled)\n",
        "\n",
        "train_fpr, train_tpr, tr_thresholds = roc_curve(y_train, y_train_pred)\n",
        "test_fpr, test_tpr, te_thresholds = roc_curve(y_test, y_test_pred)"
      ],
      "id": "f501bf61",
      "execution_count": 63,
      "outputs": []
    },
    {
      "cell_type": "markdown",
      "metadata": {
        "id": "nII92PhsXoh7"
      },
      "source": [
        "Here below we see that train & test auc are almost equal, hence model is not overfitting."
      ],
      "id": "nII92PhsXoh7"
    },
    {
      "cell_type": "code",
      "metadata": {
        "colab": {
          "base_uri": "https://localhost:8080/"
        },
        "id": "ki5cpVWvY0Nt",
        "outputId": "26038135-6feb-4a14-dfa5-a939ab89a917"
      },
      "source": [
        "depth_best"
      ],
      "id": "ki5cpVWvY0Nt",
      "execution_count": 64,
      "outputs": [
        {
          "output_type": "execute_result",
          "data": {
            "text/plain": [
              "5"
            ]
          },
          "metadata": {
            "tags": []
          },
          "execution_count": 64
        }
      ]
    },
    {
      "cell_type": "markdown",
      "metadata": {
        "id": "dBRf4wDBdvl7"
      },
      "source": [
        "AUC-ROC curve for train & test"
      ],
      "id": "dBRf4wDBdvl7"
    },
    {
      "cell_type": "code",
      "metadata": {
        "id": "823f7f60",
        "colab": {
          "base_uri": "https://localhost:8080/",
          "height": 295
        },
        "outputId": "d8784fc2-05ed-4ae9-ed6d-37e914329d3b"
      },
      "source": [
        "plt.plot(train_fpr, train_tpr, label=\"train AUC =\"+str(auc(train_fpr, train_tpr)))\n",
        "plt.plot(test_fpr, test_tpr, label=\"test AUC =\"+str(auc(test_fpr, test_tpr)))\n",
        "plt.legend()\n",
        "plt.xlabel(\"FPR\")\n",
        "plt.ylabel(\"TPR\")\n",
        "plt.title(\"AUC\")\n",
        "plt.grid()\n",
        "plt.show()"
      ],
      "id": "823f7f60",
      "execution_count": 65,
      "outputs": [
        {
          "output_type": "display_data",
          "data": {
            "image/png": "[encoded data removed]",
            "text/plain": [
              "<Figure size 432x288 with 1 Axes>"
            ]
          },
          "metadata": {
            "tags": [],
            "needs_background": "light"
          }
        }
      ]
    },
    {
      "cell_type": "markdown",
      "metadata": {
        "id": "dxNcmH25d1Fd"
      },
      "source": [
        "Utilities for finding best threshold, predicting by best threshold"
      ],
      "id": "dxNcmH25d1Fd"
    },
    {
      "cell_type": "code",
      "metadata": {
        "id": "de895792"
      },
      "source": [
        "# we are writing our own function for predict, with defined thresould\n",
        "# we will pick a threshold that will give the least fpr\n",
        "def find_best_threshold(threshold, fpr, tpr):\n",
        "    t = threshold[np.argmax(tpr*(1-fpr))]\n",
        "    # (tpr*(1-fpr)) will be maximum if your fpr is very low and tpr is very high\n",
        "    print(\"the maximum value of tpr*(1-fpr)\", max(tpr*(1-fpr)), \"for threshold\", np.round(t,3))\n",
        "    return t\n",
        "\n",
        "def predict_with_best_t(proba, threshold):\n",
        "    predictions = []\n",
        "    for i in proba:\n",
        "        if i>=threshold:\n",
        "            predictions.append(1)\n",
        "        else:\n",
        "            predictions.append(0)\n",
        "    return predictions\n"
      ],
      "id": "de895792",
      "execution_count": 67,
      "outputs": []
    },
    {
      "cell_type": "markdown",
      "metadata": {
        "id": "b6038664"
      },
      "source": [
        "1- Function to find best threshold from train 2- function to find predict y from best threshold\n"
      ],
      "id": "b6038664"
    },
    {
      "cell_type": "code",
      "metadata": {
        "id": "a4c68fd5",
        "colab": {
          "base_uri": "https://localhost:8080/"
        },
        "outputId": "fe007235-6047-40c3-f6a2-f215218fc4bb"
      },
      "source": [
        "print(\"=\"*100)\n",
        "from sklearn.metrics import confusion_matrix\n",
        "best_t = find_best_threshold(tr_thresholds, train_fpr, train_tpr)\n",
        "print(\"Train confusion matrix\")\n",
        "print(confusion_matrix(y_train, predict_with_best_t(y_train_pred, best_t)))\n",
        "print(\"Test confusion matrix\")\n",
        "print(confusion_matrix(y_test, predict_with_best_t(y_test_pred, best_t)))"
      ],
      "id": "a4c68fd5",
      "execution_count": 68,
      "outputs": [
        {
          "output_type": "stream",
          "text": [
            "====================================================================================================\n",
            "the maximum value of tpr*(1-fpr) 0.7491209046448486 for threshold 0.22\n",
            "Train confusion matrix\n",
            "[[254613  30007]\n",
            " [ 14321  73758]]\n",
            "Test confusion matrix\n",
            "[[104167  17814]\n",
            " [  6284  31464]]\n"
          ],
          "name": "stdout"
        }
      ]
    },
    {
      "cell_type": "markdown",
      "metadata": {
        "id": "UrOhgou6i6iv"
      },
      "source": [
        "Checking model count behavior"
      ],
      "id": "UrOhgou6i6iv"
    },
    {
      "cell_type": "code",
      "metadata": {
        "colab": {
          "base_uri": "https://localhost:8080/"
        },
        "id": "5wr7TYTUgHrH",
        "outputId": "3193c671-b225-409e-a7b5-2382d75f7648"
      },
      "source": [
        "a= predict_with_best_t(y_train_pred, best_t)\n",
        "b= predict_with_best_t(y_test_pred, best_t)\n",
        "print(a.count(0), a.count(1))\n",
        "\n",
        "print(b.count(0), b.count(1))\n",
        "\n",
        "print(np.unique(y_train, return_counts=True))\n",
        "print(np.unique(y_test, return_counts=True))"
      ],
      "id": "5wr7TYTUgHrH",
      "execution_count": 69,
      "outputs": [
        {
          "output_type": "stream",
          "text": [
            "268934 103765\n",
            "110451 49278\n",
            "(array([0, 1]), array([284620,  88079]))\n",
            "(array([0, 1]), array([121981,  37748]))\n"
          ],
          "name": "stdout"
        }
      ]
    },
    {
      "cell_type": "markdown",
      "metadata": {
        "id": "50HNcJH1dk9R"
      },
      "source": [
        "Best threshold"
      ],
      "id": "50HNcJH1dk9R"
    },
    {
      "cell_type": "code",
      "metadata": {
        "colab": {
          "base_uri": "https://localhost:8080/"
        },
        "id": "xUl0fnCJdUpO",
        "outputId": "995a31c4-a5fb-4e4d-dd59-5069e6280833"
      },
      "source": [
        "best_t"
      ],
      "id": "xUl0fnCJdUpO",
      "execution_count": 70,
      "outputs": [
        {
          "output_type": "execute_result",
          "data": {
            "text/plain": [
              "0.22005935"
            ]
          },
          "metadata": {
            "tags": []
          },
          "execution_count": 70
        }
      ]
    },
    {
      "cell_type": "markdown",
      "metadata": {
        "id": "PzYEvhp8a2uK"
      },
      "source": [
        "Predicting the probabilistic values for each point and corresponding class label"
      ],
      "id": "PzYEvhp8a2uK"
    },
    {
      "cell_type": "code",
      "metadata": {
        "id": "0a90d62d"
      },
      "source": [
        "y_unseen_pred = np.array(batch_predict(dec, X_Unseen_test_scaled))\n",
        "y_unseen_pred_loan_status = np.array(predict_with_best_t(y_unseen_pred, best_t))"
      ],
      "id": "0a90d62d",
      "execution_count": 71,
      "outputs": []
    },
    {
      "cell_type": "code",
      "metadata": {
        "colab": {
          "base_uri": "https://localhost:8080/"
        },
        "id": "aaci-PwIZm7h",
        "outputId": "f3cbc4cf-a48d-4c67-f9aa-585694e723c2"
      },
      "source": [
        "print(y_unseen_pred)\n",
        "print(y_unseen_pred_loan_status[:20])\n",
        "\n",
        "print(y_unseen_pred.shape)\n",
        "print(y_unseen_pred_loan_status.shape)"
      ],
      "id": "aaci-PwIZm7h",
      "execution_count": 72,
      "outputs": [
        {
          "output_type": "stream",
          "text": [
            "[0.7298034  0.5082688  0.4591312  ... 0.62018645 0.7917276  0.7114269 ]\n",
            "[1 1 1 1 0 0 1 1 1 1 1 1 1 1 1 0 1 0 1 0]\n",
            "(354951,)\n",
            "(354951,)\n"
          ],
          "name": "stdout"
        }
      ]
    },
    {
      "cell_type": "markdown",
      "metadata": {
        "id": "0yjSVSGHdH9N"
      },
      "source": [
        "Holding & consolidating all in a dataframe"
      ],
      "id": "0yjSVSGHdH9N"
    },
    {
      "cell_type": "code",
      "metadata": {
        "id": "gJ-l72p1Z8o0"
      },
      "source": [
        "df_predicted_finally_test_labels = pd.DataFrame(columns=['member_id', 'loan_status', 'predicted_labels_best_threshold'])\n",
        "df_predicted_finally_test_labels['member_id'] = X_Unseen_test['member_id']\n",
        "df_predicted_finally_test_labels['loan_status'] = y_unseen_pred\n",
        "df_predicted_finally_test_labels['predicted_labels_best_threshold'] = y_unseen_pred_loan_status\n"
      ],
      "id": "gJ-l72p1Z8o0",
      "execution_count": 77,
      "outputs": []
    },
    {
      "cell_type": "markdown",
      "metadata": {
        "id": "e7c92146"
      },
      "source": [
        "Hence, below we see that from test set given 70.11% will be marked as 1(defaulter) by model"
      ],
      "id": "e7c92146"
    },
    {
      "cell_type": "code",
      "metadata": {
        "id": "10e4d9a3",
        "colab": {
          "base_uri": "https://localhost:8080/"
        },
        "outputId": "7d2ae05f-e6f2-46da-995b-2b33ce186cdc"
      },
      "source": [
        "print(df_predicted_finally_test_labels.shape)\n",
        "df_predicted_finally_test_labels['predicted_labels_best_threshold'].value_counts()"
      ],
      "id": "10e4d9a3",
      "execution_count": 79,
      "outputs": [
        {
          "output_type": "stream",
          "text": [
            "(354951, 3)\n"
          ],
          "name": "stdout"
        },
        {
          "output_type": "execute_result",
          "data": {
            "text/plain": [
              "1    248863\n",
              "0    106088\n",
              "Name: predicted_labels_best_threshold, dtype: int64"
            ]
          },
          "metadata": {
            "tags": []
          },
          "execution_count": 79
        }
      ]
    },
    {
      "cell_type": "markdown",
      "metadata": {
        "id": "bh2OM4S_dDGU"
      },
      "source": [
        "Saving results to a file"
      ],
      "id": "bh2OM4S_dDGU"
    },
    {
      "cell_type": "code",
      "metadata": {
        "id": "7wwBu7O1dDby"
      },
      "source": [
        "df_predicted_finally_test_labels.to_csv('result_submission.csv')\n",
        "!cp result_submission.csv \"drive/My Drive/\""
      ],
      "id": "7wwBu7O1dDby",
      "execution_count": null,
      "outputs": []
    }
  ]
}